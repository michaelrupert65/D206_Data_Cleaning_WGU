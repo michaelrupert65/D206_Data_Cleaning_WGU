{
 "cells": [
  {
   "cell_type": "code",
   "execution_count": 173,
   "id": "df20e3ca-b2d5-4c7c-a244-0e2b52154dcc",
   "metadata": {
    "tags": []
   },
   "outputs": [
    {
     "name": "stdout",
     "output_type": "stream",
     "text": [
      "                                                       0\n",
      "Unnamed: 0                                             1\n",
      "CaseOrder                                              1\n",
      "Customer_id                                      C412403\n",
      "Interaction         8cd49b13-f45a-4b47-a2bd-173ffa932c2f\n",
      "UID                     3a83ddb66e2ae73798bdf1d705dc0932\n",
      "City                                                 Eva\n",
      "State                                                 AL\n",
      "County                                            Morgan\n",
      "Zip                                                35621\n",
      "Lat                                              34.3496\n",
      "Lng                                            -86.72508\n",
      "Population                                          2951\n",
      "Area                                            Suburban\n",
      "Timezone                                 America/Chicago\n",
      "Job                     Psychologist, sport and exercise\n",
      "Children                                             1.0\n",
      "Age                                                 53.0\n",
      "Education                 Some College, Less than 1 Year\n",
      "Employment                                     Full Time\n",
      "Income                                          86575.93\n",
      "Marital                                         Divorced\n",
      "Gender                                              Male\n",
      "ReAdmis                                               No\n",
      "VitD_levels                                     17.80233\n",
      "Doc_visits                                             6\n",
      "Full_meals_eaten                                       0\n",
      "VitD_supp                                              0\n",
      "Soft_drink                                           NaN\n",
      "Initial_admin                        Emergency Admission\n",
      "HighBlood                                            Yes\n",
      "Stroke                                                No\n",
      "Complication_risk                                 Medium\n",
      "Overweight                                           0.0\n",
      "Arthritis                                            Yes\n",
      "Diabetes                                             Yes\n",
      "Hyperlipidemia                                        No\n",
      "BackPain                                             Yes\n",
      "Anxiety                                              1.0\n",
      "Allergic_rhinitis                                    Yes\n",
      "Reflux_esophagitis                                    No\n",
      "Asthma                                               Yes\n",
      "Services                                      Blood Work\n",
      "Initial_days                                    10.58577\n",
      "TotalCharge                                  3191.048774\n",
      "Additional_charges                           17939.40342\n",
      "Item1                                                  3\n",
      "Item2                                                  3\n",
      "Item3                                                  2\n",
      "Item4                                                  2\n",
      "Item5                                                  4\n",
      "Item6                                                  3\n",
      "Item7                                                  3\n",
      "Item8                                                  4\n"
     ]
    }
   ],
   "source": [
    "#Shown in Figure 1\n",
    "import pandas as pd;\n",
    "import numpy as np;\n",
    "pd.set_option('display.max_rows', 500)\n",
    "dfRaw = pd.read_csv('C:/Users/MichaelRupert/Downloads/e9d8sm5uf8df75k650df/medical_raw_data.csv');\n",
    "data = dfRaw.head(1);\n",
    "print(data.transpose());"
   ]
  },
  {
   "cell_type": "code",
   "execution_count": 174,
   "id": "181c68f7-0c3f-40eb-90cb-ac9b2b84491c",
   "metadata": {},
   "outputs": [
    {
     "name": "stdout",
     "output_type": "stream",
     "text": [
      "Unnamed: 0              int64\n",
      "CaseOrder               int64\n",
      "Customer_id            object\n",
      "Interaction            object\n",
      "UID                    object\n",
      "City                   object\n",
      "State                  object\n",
      "County                 object\n",
      "Zip                     int64\n",
      "Lat                   float64\n",
      "Lng                   float64\n",
      "Population              int64\n",
      "Area                   object\n",
      "Timezone               object\n",
      "Job                    object\n",
      "Children              float64\n",
      "Age                   float64\n",
      "Education              object\n",
      "Employment             object\n",
      "Income                float64\n",
      "Marital                object\n",
      "Gender                 object\n",
      "ReAdmis                object\n",
      "VitD_levels           float64\n",
      "Doc_visits              int64\n",
      "Full_meals_eaten        int64\n",
      "VitD_supp               int64\n",
      "Soft_drink             object\n",
      "Initial_admin          object\n",
      "HighBlood              object\n",
      "Stroke                 object\n",
      "Complication_risk      object\n",
      "Overweight            float64\n",
      "Arthritis              object\n",
      "Diabetes               object\n",
      "Hyperlipidemia         object\n",
      "BackPain               object\n",
      "Anxiety               float64\n",
      "Allergic_rhinitis      object\n",
      "Reflux_esophagitis     object\n",
      "Asthma                 object\n",
      "Services               object\n",
      "Initial_days          float64\n",
      "TotalCharge           float64\n",
      "Additional_charges    float64\n",
      "Item1                   int64\n",
      "Item2                   int64\n",
      "Item3                   int64\n",
      "Item4                   int64\n",
      "Item5                   int64\n",
      "Item6                   int64\n",
      "Item7                   int64\n",
      "Item8                   int64\n",
      "dtype: object\n"
     ]
    }
   ],
   "source": [
    "#Shown in figure 2\n",
    "print(data.dtypes)"
   ]
  },
  {
   "cell_type": "code",
   "execution_count": 175,
   "id": "32e54fe2-c863-49f1-95eb-8db9bfad47f6",
   "metadata": {
    "collapsed": true,
    "jupyter": {
     "outputs_hidden": true
    },
    "tags": []
   },
   "outputs": [
    {
     "name": "stdout",
     "output_type": "stream",
     "text": [
      "False    10000\n",
      "dtype: int64\n"
     ]
    }
   ],
   "source": [
    "#Shown in Figure 3\n",
    "Is_dups_bool = dfRaw.duplicated()\n",
    "print(Is_dups_bool.value_counts())"
   ]
  },
  {
   "cell_type": "code",
   "execution_count": 1,
   "id": "69908af5-1106-42f0-ac77-86e4b2d382c1",
   "metadata": {
    "tags": []
   },
   "outputs": [
    {
     "ename": "NameError",
     "evalue": "name 'dfRaw' is not defined",
     "output_type": "error",
     "traceback": [
      "\u001b[1;31m---------------------------------------------------------------------------\u001b[0m",
      "\u001b[1;31mNameError\u001b[0m                                 Traceback (most recent call last)",
      "\u001b[1;32m<ipython-input-1-302447852338>\u001b[0m in \u001b[0;36m<module>\u001b[1;34m\u001b[0m\n\u001b[0;32m      1\u001b[0m \u001b[1;31m#Remove Unwanted columns Shown in figure 4\u001b[0m\u001b[1;33m\u001b[0m\u001b[1;33m\u001b[0m\u001b[1;33m\u001b[0m\u001b[0m\n\u001b[1;32m----> 2\u001b[1;33m \u001b[0mdataF\u001b[0m \u001b[1;33m=\u001b[0m \u001b[0mdfRaw\u001b[0m\u001b[1;33m.\u001b[0m\u001b[0miloc\u001b[0m\u001b[1;33m[\u001b[0m\u001b[1;36m0\u001b[0m\u001b[1;33m:\u001b[0m\u001b[1;36m9999\u001b[0m\u001b[1;33m,\u001b[0m\u001b[1;36m6\u001b[0m\u001b[1;33m:\u001b[0m\u001b[1;36m53\u001b[0m\u001b[1;33m]\u001b[0m\u001b[1;33m\u001b[0m\u001b[1;33m\u001b[0m\u001b[0m\n\u001b[0m\u001b[0;32m      3\u001b[0m \u001b[0mprint\u001b[0m\u001b[1;33m(\u001b[0m\u001b[0mdataF\u001b[0m\u001b[1;33m)\u001b[0m\u001b[1;33m\u001b[0m\u001b[1;33m\u001b[0m\u001b[0m\n",
      "\u001b[1;31mNameError\u001b[0m: name 'dfRaw' is not defined"
     ]
    }
   ],
   "source": [
    "#Remove Unwanted columns Shown in figure 4\n",
    "dataF = dfRaw.iloc[0:9999,6:53]\n",
    "print(dataF)"
   ]
  },
  {
   "cell_type": "code",
   "execution_count": 2,
   "id": "5826dd2e-bb1f-4998-94bd-9bedc0bad3d2",
   "metadata": {
    "tags": []
   },
   "outputs": [
    {
     "ename": "NameError",
     "evalue": "name 'pd' is not defined",
     "output_type": "error",
     "traceback": [
      "\u001b[1;31m---------------------------------------------------------------------------\u001b[0m",
      "\u001b[1;31mNameError\u001b[0m                                 Traceback (most recent call last)",
      "\u001b[1;32m<ipython-input-2-074c95cce087>\u001b[0m in \u001b[0;36m<module>\u001b[1;34m\u001b[0m\n\u001b[0;32m      1\u001b[0m \u001b[1;31m#Shown in Figure 5\u001b[0m\u001b[1;33m\u001b[0m\u001b[1;33m\u001b[0m\u001b[1;33m\u001b[0m\u001b[0m\n\u001b[1;32m----> 2\u001b[1;33m \u001b[0mreNamed_df\u001b[0m \u001b[1;33m=\u001b[0m \u001b[0mpd\u001b[0m\u001b[1;33m.\u001b[0m\u001b[0mDataFrame\u001b[0m\u001b[1;33m(\u001b[0m\u001b[0mdataF\u001b[0m\u001b[1;33m)\u001b[0m\u001b[1;33m\u001b[0m\u001b[1;33m\u001b[0m\u001b[0m\n\u001b[0m\u001b[0;32m      3\u001b[0m reNamed_df.rename(columns = {'Income' : 'Household_Income', \n\u001b[0;32m      4\u001b[0m                                  \u001b[1;34m'TotalCharge'\u001b[0m\u001b[1;33m:\u001b[0m \u001b[1;34m'Daily_Average_Charges'\u001b[0m\u001b[1;33m,\u001b[0m \u001b[1;34m'Additional_Charges'\u001b[0m \u001b[1;33m:\u001b[0m \u001b[1;34m'Average_Daily_Additional_Services'\u001b[0m\u001b[1;33m,\u001b[0m\u001b[1;33m\u001b[0m\u001b[1;33m\u001b[0m\u001b[0m\n\u001b[0;32m      5\u001b[0m                                  \u001b[1;34m'Item1'\u001b[0m\u001b[1;33m:\u001b[0m\u001b[1;34m'Timely_Admission'\u001b[0m\u001b[1;33m,\u001b[0m\u001b[1;34m'Item2'\u001b[0m\u001b[1;33m:\u001b[0m\u001b[1;34m'Timely_Treatment'\u001b[0m\u001b[1;33m,\u001b[0m\u001b[1;34m'Item3'\u001b[0m\u001b[1;33m:\u001b[0m\u001b[1;34m'Timely_Visits'\u001b[0m\u001b[1;33m,\u001b[0m\u001b[1;33m\u001b[0m\u001b[1;33m\u001b[0m\u001b[0m\n",
      "\u001b[1;31mNameError\u001b[0m: name 'pd' is not defined"
     ]
    }
   ],
   "source": [
    "#Shown in Figure 5\n",
    "reNamed_df = pd.DataFrame(dataF)\n",
    "reNamed_df.rename(columns = {'Income' : 'Household_Income', \n",
    "                                 'TotalCharge': 'Daily_Average_Charges', 'Additional_Charges' : 'Average_Daily_Additional_Services',\n",
    "                                 'Item1':'Timely_Admission','Item2':'Timely_Treatment','Item3':'Timely_Visits',\n",
    "                                 'Item4':'Reliability','Item5':'Options','Item6':'Hours_Treatment',\n",
    "                                 'Item7':'Courteous_Staff','Item8':'Active_Listening'},inplace = True)\n",
    "print(reNamed_df.head(1))"
   ]
  },
  {
   "cell_type": "code",
   "execution_count": 178,
   "id": "24cb5413-7731-49bb-b8d1-21c68c6cdff7",
   "metadata": {
    "tags": []
   },
   "outputs": [
    {
     "name": "stdout",
     "output_type": "stream",
     "text": [
      "  State        County    Zip       Lat       Lng  Population      Area  \\\n",
      "0    AL        Morgan  35621  34.34960 -86.72508        2951  Suburban   \n",
      "1    FL       Jackson  32446  30.84513 -85.22907       11303     Urban   \n",
      "2    SD     Minnehaha  57110  43.54321 -96.63772       17125  Suburban   \n",
      "3    MN        Waseca  56072  43.89744 -93.51479        2162  Suburban   \n",
      "4    VA  King William  23181  37.59894 -76.88958        5287     Rural   \n",
      "\n",
      "           Timezone                               Job  Children  ...  \\\n",
      "0   America/Chicago  Psychologist, sport and exercise       1.0  ...   \n",
      "1   America/Chicago      Community development worker       3.0  ...   \n",
      "2   America/Chicago           Chief Executive Officer       3.0  ...   \n",
      "3   America/Chicago               Early years teacher       0.0  ...   \n",
      "4  America/New_York       Health promotion specialist       NaN  ...   \n",
      "\n",
      "   Daily_Average_Charges Additional_charges Timely_Admission  \\\n",
      "0            3191.048774       17939.403420                3   \n",
      "1            4214.905346       17612.998120                3   \n",
      "2            2177.586768       17505.192460                2   \n",
      "3            2465.118965       12993.437350                3   \n",
      "4            1885.655137        3716.525786                2   \n",
      "\n",
      "   Timely_Treatment Timely_Visits Reliability Options  Hours_Treatment  \\\n",
      "0                 3             2           2       4                3   \n",
      "1                 4             3           4       4                4   \n",
      "2                 4             4           4       3                4   \n",
      "3                 5             5           3       4                5   \n",
      "4                 1             3           3       5                3   \n",
      "\n",
      "   Courteous_Staff  Active_Listening  \n",
      "0                3                 4  \n",
      "1                3                 3  \n",
      "2                3                 3  \n",
      "3                5                 5  \n",
      "4                4                 3  \n",
      "\n",
      "[5 rows x 47 columns]\n",
      "  State        County    Zip       Lat       Lng  Population      Area  \\\n",
      "1    AL        Morgan  35621  34.34960 -86.72508        2951  Suburban   \n",
      "2    FL       Jackson  32446  30.84513 -85.22907       11303     Urban   \n",
      "3    SD     Minnehaha  57110  43.54321 -96.63772       17125  Suburban   \n",
      "4    MN        Waseca  56072  43.89744 -93.51479        2162  Suburban   \n",
      "5    VA  King William  23181  37.59894 -76.88958        5287     Rural   \n",
      "\n",
      "           Timezone                               Job  Children  ...  \\\n",
      "1   America/Chicago  Psychologist, sport and exercise       1.0  ...   \n",
      "2   America/Chicago      Community development worker       3.0  ...   \n",
      "3   America/Chicago           Chief Executive Officer       3.0  ...   \n",
      "4   America/Chicago               Early years teacher       0.0  ...   \n",
      "5  America/New_York       Health promotion specialist       NaN  ...   \n",
      "\n",
      "   Daily_Average_Charges Additional_charges Timely_Admission  \\\n",
      "1            3191.048774       17939.403420                3   \n",
      "2            4214.905346       17612.998120                3   \n",
      "3            2177.586768       17505.192460                2   \n",
      "4            2465.118965       12993.437350                3   \n",
      "5            1885.655137        3716.525786                2   \n",
      "\n",
      "   Timely_Treatment Timely_Visits Reliability Options  Hours_Treatment  \\\n",
      "1                 3             2           2       4                3   \n",
      "2                 4             3           4       4                4   \n",
      "3                 4             4           4       3                4   \n",
      "4                 5             5           3       4                5   \n",
      "5                 1             3           3       5                3   \n",
      "\n",
      "   Courteous_Staff  Active_Listening  \n",
      "1                3                 4  \n",
      "2                3                 3  \n",
      "3                3                 3  \n",
      "4                5                 5  \n",
      "5                4                 3  \n",
      "\n",
      "[5 rows x 47 columns]\n"
     ]
    }
   ],
   "source": [
    "#Shown in Figure 6\n",
    "print(reNamed_df.head(5))\n",
    "reNamed_df.index = np.arange(1,len(reNamed_df)+1)\n",
    "print(reNamed_df.head(5))"
   ]
  },
  {
   "cell_type": "code",
   "execution_count": 5,
   "id": "3c3e6aa4-118c-411a-bc2c-8e0221576158",
   "metadata": {
    "tags": []
   },
   "outputs": [
    {
     "ename": "NameError",
     "evalue": "name 'reNamed_df' is not defined",
     "output_type": "error",
     "traceback": [
      "\u001b[1;31m---------------------------------------------------------------------------\u001b[0m",
      "\u001b[1;31mNameError\u001b[0m                                 Traceback (most recent call last)",
      "\u001b[1;32m<ipython-input-5-c148a197b8fd>\u001b[0m in \u001b[0;36m<module>\u001b[1;34m\u001b[0m\n\u001b[0;32m     54\u001b[0m  'ID':42, 'UT':43, 'RI': 44, 'MT':45, 'PR':46, 'NV':47, 'CT':48, 'HI':49, 'WY':50 ,'DE' : 51}\n\u001b[0;32m     55\u001b[0m \u001b[1;33m\u001b[0m\u001b[0m\n\u001b[1;32m---> 56\u001b[1;33m newDF = reNamed_df.replace({\"Area\": my_dict,\"Timezone\": my_dict1,\"Education\":my_dict2,\"ReAdmis\": my_dict3,\"Gender\": my_dict4,\"Soft_drink\": my_dict3,\n\u001b[0m\u001b[0;32m     57\u001b[0m                      \u001b[1;34m\"Initial_admin\"\u001b[0m\u001b[1;33m:\u001b[0m \u001b[0mmy_dict6\u001b[0m\u001b[1;33m,\u001b[0m\u001b[1;34m\"HighBlood\"\u001b[0m\u001b[1;33m:\u001b[0m \u001b[0mmy_dict3\u001b[0m\u001b[1;33m,\u001b[0m\u001b[1;33m\u001b[0m\u001b[1;33m\u001b[0m\u001b[0m\n\u001b[0;32m     58\u001b[0m                      \u001b[1;34m\"Stroke\"\u001b[0m\u001b[1;33m:\u001b[0m \u001b[0mmy_dict3\u001b[0m\u001b[1;33m,\u001b[0m\u001b[1;34m\"Complication_risk\"\u001b[0m\u001b[1;33m:\u001b[0m\u001b[0mmy_dict5\u001b[0m\u001b[1;33m,\u001b[0m\u001b[1;34m\"Arthritis\"\u001b[0m\u001b[1;33m:\u001b[0m\u001b[0mmy_dict3\u001b[0m\u001b[1;33m,\u001b[0m\u001b[1;34m\"Hyperlipidemia\"\u001b[0m\u001b[1;33m:\u001b[0m \u001b[0mmy_dict3\u001b[0m\u001b[1;33m,\u001b[0m\u001b[1;34m\"BackPain\"\u001b[0m\u001b[1;33m:\u001b[0m \u001b[0mmy_dict3\u001b[0m\u001b[1;33m,\u001b[0m\u001b[1;34m\"Diabetes\"\u001b[0m\u001b[1;33m:\u001b[0m\u001b[0mmy_dict3\u001b[0m\u001b[1;33m,\u001b[0m\u001b[1;33m\u001b[0m\u001b[1;33m\u001b[0m\u001b[0m\n",
      "\u001b[1;31mNameError\u001b[0m: name 'reNamed_df' is not defined"
     ]
    }
   ],
   "source": [
    "#Figure 7 and output in figues 8a and 8b\n",
    "my_dict = {\"Rural\": 1, \"Suburban\": 2, \"Urban\": 3}\n",
    "my_dict1 ={\n",
    "  \"America/Puerto_Rico\":-4,\n",
    "  \"America/Detroit\":-5,\n",
    "  \"America/Indiana/Indianapolis\":-5,\n",
    "  \"America/Indiana/Marengo\": -5,\n",
    "  \"America/Indiana/Vincennes\": -5,\n",
    "  \"America/Indiana/Vevay\":-5,\n",
    "  \"America/Indiana/Winamac\":-5,\n",
    "  \"America/Kentucky/Louisville\":-5,\n",
    "  \"America/New_York\":-5,\n",
    "  \"America/Toronto\":-5,\n",
    "  \"America/Chicago\":-6,\n",
    "  \"America/Indiana/Knox\":-6,\n",
    "  \"America/Indiana/Tell_City\": -6,\n",
    "  \"America/Menominee\": -6,\n",
    "  \"America/North_Dakota/Beulah\": -6,\n",
    "  \"America/North_Dakota/New_Salem\": -6,\n",
    "  \"America/Boise\":-7,\n",
    "  \"America/Denver\":-7,\n",
    "  \"America/Phoenix\":-7,\n",
    "  \"America/Los_Angeles\": -8,\n",
    "  \"America/Anchorage\": -9,\n",
    "  \"America/Nome\":-9,\n",
    "  \"America/Sitka\":-9,\n",
    "  \"America/Yakutat\":-9,\n",
    "  \"America/Adak\":-10,\n",
    "  \"Pacific/Honolulu\":-10}\n",
    "my_dict2 = {\n",
    "  \"No Schooling Completed\": 0,\n",
    "  \"Nursery School to 8th Grade\": 8,\n",
    "  \"9th Grade to 12th Grade, No Diploma\": 11,\n",
    "  \"GED or Alternative Credential\": 12,\n",
    "  \"Regular High School Diploma\": 12,\n",
    "  \"Some College, Less than 1 Year\": 13,\n",
    "  \"Some College, 1 or More Years, No Degree\": 14,\n",
    "  \"Associate's Degree\": 15,\n",
    "  \"Bachelor's Degree\": 16,\n",
    "  \"Master's Degree\": 18,\n",
    "  \"Professional School Degree\": 20,\n",
    "  \"Doctorate Degree\": 24\n",
    "}\n",
    "my_dict3={\"Yes\": 1,\"No\": 0}\n",
    "my_dict4={\"Male\": 1,\"Female\": 2,\"Prefer not to answer\": 0}\n",
    "my_dict5={\"Low\":1,\"Medium\":2,\"High\":3}\n",
    "my_dict6={\"Emergency Admission\":1,   \"Elective Admission\":2,    \"Observation Admission\":3}\n",
    "my_dict7={\"Blood Work\":1,  \"Intravenous\":2,  \"CT Scan\":3,  \"MRI\":4}\n",
    "my_dict8 ={\"Divorced\":1,  \"Married\":2,      \"Widowed\":3,       \"Never Married\":4,  \"Separated\":5 }\n",
    "my_dict9={\"Full Time\": 1,  \"Retired\":2,    \"Unemployed\":3, \"Student\":4,    \"Part Time\":5}\n",
    "my_dict10 = {'AL' :  1, 'FL': 2, 'SD' : 3, 'MN' : 4,'VA' : 5, 'OK': 6, 'OH': 7, 'MS' : 8, 'WI': 9, 'IA':10, 'CA':11, 'IN':12, 'MO':13, 'MI':14,\n",
    " 'NE':15, 'PA':16, 'AR':17, 'WV':18, 'KS':19, 'MA':20, 'KY':21, 'NY':22, 'VT':23, 'DC':24, 'IL':25, 'ND':26, 'SC':27, 'AK':28,\n",
    " 'NM':29, 'NH':30, 'GA':31, 'NC':32, 'MD':33, 'TN':34, 'WA': 35,'TX':36, 'CO':37, 'NJ':38, 'LA':39,'OR':40, 'AZ':41, 'ME':41, \n",
    " 'ID':42, 'UT':43, 'RI': 44, 'MT':45, 'PR':46, 'NV':47, 'CT':48, 'HI':49, 'WY':50 ,'DE' : 51}\n",
    "\n",
    "newDF = reNamed_df.replace({\"Area\": my_dict,\"Timezone\": my_dict1,\"Education\":my_dict2,\"ReAdmis\": my_dict3,\"Gender\": my_dict4,\"Soft_drink\": my_dict3,\n",
    "                     \"Initial_admin\": my_dict6,\"HighBlood\": my_dict3,\n",
    "                     \"Stroke\": my_dict3,\"Complication_risk\":my_dict5,\"Arthritis\":my_dict3,\"Hyperlipidemia\": my_dict3,\"BackPain\": my_dict3,\"Diabetes\":my_dict3,\n",
    "                     \"Allergic_rhinitis\": my_dict3,\"Reflux_esophagitis\": my_dict3,\"Asthma\": my_dict3,\"Services\": my_dict7, \"Marital\": my_dict8, \"Employment\": my_dict9, \"State\": my_dict10})\n",
    "print(newDF.iloc[:,9:30])"
   ]
  },
  {
   "cell_type": "code",
   "execution_count": 180,
   "id": "195debc8-ae6e-4f68-8215-c9d717435a30",
   "metadata": {
    "collapsed": true,
    "jupyter": {
     "outputs_hidden": true,
     "source_hidden": true
    },
    "tags": []
   },
   "outputs": [
    {
     "name": "stdout",
     "output_type": "stream",
     "text": [
      "['Children', 'Age', 'Household_Income', 'Soft_drink', 'Overweight', 'Anxiety', 'Initial_days']\n"
     ]
    }
   ],
   "source": [
    "#Shown in Figure 9 Itenetify which columns contain NaN\n",
    "nan_values = newDF.isnull()\n",
    "nan_columns = nan_values.any()\n",
    "columns_with_nan = newDF.columns[nan_columns].tolist()\n",
    "newDF = newDF.drop(['County','Job'],axis=1)\n",
    "print(columns_with_nan)"
   ]
  },
  {
   "cell_type": "code",
   "execution_count": 3,
   "id": "df10b44f-7ed5-4dcb-8a6e-1c93e7f8b1f5",
   "metadata": {
    "tags": []
   },
   "outputs": [
    {
     "ename": "NameError",
     "evalue": "name 'newDF' is not defined",
     "output_type": "error",
     "traceback": [
      "\u001b[1;31m---------------------------------------------------------------------------\u001b[0m",
      "\u001b[1;31mNameError\u001b[0m                                 Traceback (most recent call last)",
      "\u001b[1;32m<ipython-input-3-c7d7d99c246a>\u001b[0m in \u001b[0;36m<module>\u001b[1;34m\u001b[0m\n\u001b[0;32m      1\u001b[0m \u001b[1;31m# Check to see how man zeros in population Firgure 10\u001b[0m\u001b[1;33m\u001b[0m\u001b[1;33m\u001b[0m\u001b[1;33m\u001b[0m\u001b[0m\n\u001b[1;32m----> 2\u001b[1;33m \u001b[0mzeros\u001b[0m \u001b[1;33m=\u001b[0m \u001b[1;33m(\u001b[0m\u001b[0mnewDF\u001b[0m\u001b[1;33m[\u001b[0m\u001b[1;34m\"Population\"\u001b[0m\u001b[1;33m]\u001b[0m \u001b[1;33m==\u001b[0m \u001b[1;36m0\u001b[0m\u001b[1;33m)\u001b[0m\u001b[1;33m.\u001b[0m\u001b[0msum\u001b[0m\u001b[1;33m(\u001b[0m\u001b[1;33m)\u001b[0m\u001b[1;33m\u001b[0m\u001b[1;33m\u001b[0m\u001b[0m\n\u001b[0m\u001b[0;32m      3\u001b[0m \u001b[0mprint\u001b[0m\u001b[1;33m(\u001b[0m\u001b[0mzeros\u001b[0m\u001b[1;33m)\u001b[0m\u001b[1;33m\u001b[0m\u001b[1;33m\u001b[0m\u001b[0m\n\u001b[0;32m      4\u001b[0m \u001b[0mprint\u001b[0m\u001b[1;33m(\u001b[0m\u001b[0mnewDF\u001b[0m\u001b[1;33m[\u001b[0m\u001b[1;36m35\u001b[0m\u001b[1;33m:\u001b[0m\u001b[1;36m45\u001b[0m\u001b[1;33m]\u001b[0m\u001b[1;33m)\u001b[0m\u001b[1;33m\u001b[0m\u001b[1;33m\u001b[0m\u001b[0m\n",
      "\u001b[1;31mNameError\u001b[0m: name 'newDF' is not defined"
     ]
    }
   ],
   "source": [
    "# Check to see how man zeros in population Firgure 10\n",
    "zeros = (newDF[\"Population\"] == 0).sum()\n",
    "print(zeros)\n",
    "print(newDF[35:45])"
   ]
  },
  {
   "cell_type": "code",
   "execution_count": 182,
   "id": "556cf714-b189-4d28-8ab4-8628e9230ba2",
   "metadata": {
    "collapsed": true,
    "jupyter": {
     "outputs_hidden": true
    },
    "tags": []
   },
   "outputs": [
    {
     "name": "stdout",
     "output_type": "stream",
     "text": [
      "    State    Zip       Lat       Lng  Population  Area  Timezone  Children  \\\n",
      "36     23   5043  43.80814 -72.20823      1009.0     1        -5       0.0   \n",
      "37     20   2468  42.32731 -71.23076      5688.0     2        -5       1.0   \n",
      "38     20   2138  42.38004 -71.13463     38835.0     1        -5       1.0   \n",
      "39     15  68164  41.29905 -96.10955     29143.0     1        -6       3.0   \n",
      "40     16  16878  40.94827 -78.32867      1816.0     2        -5       3.0   \n",
      "41     21  40360  38.15445 -83.76738      6875.0     2        -5       3.0   \n",
      "42     15  68132  41.26466 -96.00236     14569.0     3        -6       NaN   \n",
      "43     24  20228  38.88631 -77.03016         NaN     1        -5       0.0   \n",
      "44     16  18504  41.42553 -75.69992     20531.0     1        -5       2.0   \n",
      "45      1  35074  33.22242 -87.12425         NaN     2        -6       0.0   \n",
      "\n",
      "     Age  Education  ...  Daily_Average_Charges  Additional_charges  \\\n",
      "36  65.0         12  ...            2805.845854        10729.606930   \n",
      "37   NaN         16  ...            2040.063839         4204.826360   \n",
      "38   NaN         12  ...            2775.809508         9646.930063   \n",
      "39   NaN         16  ...            3246.774111         9711.930249   \n",
      "40  70.0         12  ...            2285.954413        11658.486190   \n",
      "41  79.0         16  ...            3319.270971        13347.990770   \n",
      "42  85.0         12  ...            3360.320065        14748.528000   \n",
      "43   NaN         16  ...            3523.303828         9441.679490   \n",
      "44   NaN         12  ...            3574.732199         4620.845473   \n",
      "45  41.0         18  ...            4783.979430         7361.105691   \n",
      "\n",
      "    Timely_Admission  Timely_Treatment  Timely_Visits  Reliability  Options  \\\n",
      "36                 4                 4              4            3        4   \n",
      "37                 4                 4              5            5        1   \n",
      "38                 5                 5              4            4        3   \n",
      "39                 2                 1              2            6        2   \n",
      "40                 5                 3              2            4        4   \n",
      "41                 3                 4              2            3        4   \n",
      "42                 3                 3              4            4        4   \n",
      "43                 4                 3              4            4        2   \n",
      "44                 3                 2              4            4        3   \n",
      "45                 3                 5              3            1        6   \n",
      "\n",
      "    Hours_Treatment  Courteous_Staff  Active_Listening  \n",
      "36                5                3                 4  \n",
      "37                3                5                 5  \n",
      "38                5                5                 6  \n",
      "39                4                4                 3  \n",
      "40                4                3                 4  \n",
      "41                3                4                 4  \n",
      "42                3                5                 3  \n",
      "43                4                4                 6  \n",
      "44                3                2                 5  \n",
      "45                3                3                 2  \n",
      "\n",
      "[10 rows x 45 columns]\n"
     ]
    }
   ],
   "source": [
    "# Replace the zeros with NaN in population\n",
    "\n",
    "newDF[\"Population\"] =  newDF[\"Population\"].replace(0,np.NAN)\n",
    "print(newDF[35:45])"
   ]
  },
  {
   "cell_type": "code",
   "execution_count": 183,
   "id": "a18fd963-46d7-48da-9393-d6a0b52a2209",
   "metadata": {
    "collapsed": true,
    "jupyter": {
     "outputs_hidden": true
    },
    "tags": []
   },
   "outputs": [
    {
     "name": "stdout",
     "output_type": "stream",
     "text": [
      "['Population', 'Children', 'Age', 'Household_Income', 'Soft_drink', 'Overweight', 'Anxiety', 'Initial_days']\n"
     ]
    }
   ],
   "source": [
    "#Shown in figure 12\n",
    "nan_values = newDF.isnull()\n",
    "nan_columns = nan_values.any()\n",
    "columns_with_nan = newDF.columns[nan_columns].tolist()\n",
    "print(columns_with_nan)"
   ]
  },
  {
   "cell_type": "code",
   "execution_count": 184,
   "id": "ecb79549-29da-4a5b-abe7-d32ee6bcba25",
   "metadata": {
    "collapsed": true,
    "jupyter": {
     "outputs_hidden": true
    },
    "tags": []
   },
   "outputs": [
    {
     "name": "stdout",
     "output_type": "stream",
     "text": [
      "Population          10071.892214\n",
      "Children                2.097423\n",
      "Age                    53.295676\n",
      "Household_Income    40481.492257\n",
      "Soft_drink              0.258099\n",
      "Overweight              0.709105\n",
      "Anxiety                 0.322352\n",
      "Initial_days           34.428010\n",
      "dtype: float64\n"
     ]
    }
   ],
   "source": [
    "#shown in figure 13\n",
    "print(newDF[[\"Population\", \"Children\", \"Age\", \"Household_Income\", \"Soft_drink\", \"Overweight\", \"Anxiety\", \"Initial_days\"]].mean())"
   ]
  },
  {
   "cell_type": "code",
   "execution_count": 4,
   "id": "9f9aec88-e0d2-4a6a-ba89-e0807f7fa116",
   "metadata": {
    "tags": []
   },
   "outputs": [
    {
     "ename": "NameError",
     "evalue": "name 'newDF' is not defined",
     "output_type": "error",
     "traceback": [
      "\u001b[1;31m---------------------------------------------------------------------------\u001b[0m",
      "\u001b[1;31mNameError\u001b[0m                                 Traceback (most recent call last)",
      "\u001b[1;32m<ipython-input-4-767ac9d04281>\u001b[0m in \u001b[0;36m<module>\u001b[1;34m\u001b[0m\n\u001b[0;32m      1\u001b[0m \u001b[1;31m# Replace the NaN values with the Mean Figure 14\u001b[0m\u001b[1;33m\u001b[0m\u001b[1;33m\u001b[0m\u001b[1;33m\u001b[0m\u001b[0m\n\u001b[1;32m----> 2\u001b[1;33m \u001b[0mnewDF\u001b[0m \u001b[1;33m=\u001b[0m \u001b[0mnewDF\u001b[0m\u001b[1;33m.\u001b[0m\u001b[0mfillna\u001b[0m\u001b[1;33m(\u001b[0m\u001b[0mnewDF\u001b[0m\u001b[1;33m[\u001b[0m\u001b[1;33m[\u001b[0m\u001b[1;34m\"Population\"\u001b[0m\u001b[1;33m,\u001b[0m \u001b[1;34m\"Children\"\u001b[0m\u001b[1;33m,\u001b[0m \u001b[1;34m\"Age\"\u001b[0m\u001b[1;33m,\u001b[0m \u001b[1;34m\"Household_Income\"\u001b[0m\u001b[1;33m,\u001b[0m \u001b[1;34m\"Soft_drink\"\u001b[0m\u001b[1;33m,\u001b[0m \u001b[1;34m\"Overweight\"\u001b[0m\u001b[1;33m,\u001b[0m \u001b[1;34m\"Anxiety\"\u001b[0m\u001b[1;33m,\u001b[0m \u001b[1;34m\"Initial_days\"\u001b[0m\u001b[1;33m]\u001b[0m\u001b[1;33m]\u001b[0m\u001b[1;33m.\u001b[0m\u001b[0mmean\u001b[0m\u001b[1;33m(\u001b[0m\u001b[1;33m)\u001b[0m\u001b[1;33m)\u001b[0m\u001b[1;33m\u001b[0m\u001b[1;33m\u001b[0m\u001b[0m\n\u001b[0m\u001b[0;32m      3\u001b[0m \u001b[0mprint\u001b[0m\u001b[1;33m(\u001b[0m\u001b[0mround\u001b[0m\u001b[1;33m(\u001b[0m\u001b[0mnewDF\u001b[0m\u001b[1;33m[\u001b[0m\u001b[1;36m35\u001b[0m\u001b[1;33m:\u001b[0m\u001b[1;36m45\u001b[0m\u001b[1;33m]\u001b[0m\u001b[1;33m)\u001b[0m\u001b[1;33m)\u001b[0m\u001b[1;33m\u001b[0m\u001b[1;33m\u001b[0m\u001b[0m\n",
      "\u001b[1;31mNameError\u001b[0m: name 'newDF' is not defined"
     ]
    }
   ],
   "source": [
    "# Replace the NaN values with the Mean Figure 14\n",
    "newDF = newDF.fillna(newDF[[\"Population\", \"Children\", \"Age\", \"Household_Income\", \"Soft_drink\", \"Overweight\", \"Anxiety\", \"Initial_days\"]].mean())\n",
    "print(round(newDF[35:45]))"
   ]
  },
  {
   "cell_type": "code",
   "execution_count": 186,
   "id": "95a0b646-5e89-45c0-9871-49e0f0ea2146",
   "metadata": {
    "collapsed": true,
    "jupyter": {
     "outputs_hidden": true
    },
    "tags": []
   },
   "outputs": [
    {
     "name": "stdout",
     "output_type": "stream",
     "text": [
      "[]\n"
     ]
    }
   ],
   "source": [
    "#Shown in figure 16\n",
    "nan_values = newDF.isnull()\n",
    "nan_columns = nan_values.any()\n",
    "columns_with_nan = newDF.columns[nan_columns].tolist()\n",
    "print(columns_with_nan)"
   ]
  },
  {
   "cell_type": "code",
   "execution_count": 187,
   "id": "8fabad9a-d555-4323-8922-fdf229762ddb",
   "metadata": {
    "collapsed": true,
    "jupyter": {
     "outputs_hidden": true
    },
    "tags": []
   },
   "outputs": [
    {
     "name": "stdout",
     "output_type": "stream",
     "text": [
      "Using matplotlib backend: Qt5Agg\n"
     ]
    }
   ],
   "source": [
    "import matplotlib.pyplot as plt\n",
    "import numpy as np\n",
    "%matplotlib\n",
    "plotPop = pd.DataFrame(newDF[\"Area\"])\n",
    "boxplot = plotPop.boxplot()"
   ]
  },
  {
   "cell_type": "code",
   "execution_count": 188,
   "id": "7accd57b-a12b-48c2-a11a-e0d8b353212f",
   "metadata": {},
   "outputs": [
    {
     "name": "stdout",
     "output_type": "stream",
     "text": [
      "3    2\n",
      "4    2\n",
      "3    2\n",
      "3    2\n",
      "2    3\n",
      "    ..\n",
      "4    2\n",
      "4    2\n",
      "4    2\n",
      "2    3\n",
      "2    3\n",
      "Name: Area, Length: 9999, dtype: int64\n"
     ]
    }
   ],
   "source": [
    "from outliers import smirnov_grubbs as grubbs\n",
    "print(newDF[\"Area\"].iloc[grubbs.test(newDF[\"Area\"], alpha=.05)])"
   ]
  },
  {
   "cell_type": "code",
   "execution_count": 189,
   "id": "76f60f95-07a9-4bee-9499-d2c2ef39a59c",
   "metadata": {
    "tags": []
   },
   "outputs": [
    {
     "name": "stdout",
     "output_type": "stream",
     "text": [
      "Using matplotlib backend: Qt5Agg\n"
     ]
    }
   ],
   "source": [
    "import matplotlib.pyplot as plt\n",
    "import numpy as np\n",
    "%matplotlib\n",
    "plotKids = pd.DataFrame(newDF[\"Timezone\"])\n",
    "boxplot = plotKids.boxplot()"
   ]
  },
  {
   "cell_type": "code",
   "execution_count": 190,
   "id": "ad3c293c-c57e-4d24-80e5-ad0c1d3ae279",
   "metadata": {},
   "outputs": [
    {
     "name": "stdout",
     "output_type": "stream",
     "text": [
      "9994   -5\n",
      "9994   -5\n",
      "9994   -5\n",
      "9994   -5\n",
      "9995   -5\n",
      "       ..\n",
      "9995   -5\n",
      "9995   -5\n",
      "9995   -5\n",
      "9994   -5\n",
      "9993   -5\n",
      "Name: Timezone, Length: 9999, dtype: int64\n"
     ]
    }
   ],
   "source": [
    "from outliers import smirnov_grubbs as grubbs\n",
    "print(newDF[\"Timezone\"].iloc[grubbs.test(newDF[\"Timezone\"], alpha=.05)])"
   ]
  },
  {
   "cell_type": "code",
   "execution_count": 191,
   "id": "94d5f955-89af-4a78-b84e-9d7df42a8aed",
   "metadata": {},
   "outputs": [
    {
     "name": "stdout",
     "output_type": "stream",
     "text": [
      "1       1.022108\n",
      "2       1.022108\n",
      "3       1.022108\n",
      "4       1.022108\n",
      "5       0.851757\n",
      "          ...   \n",
      "9995    0.851757\n",
      "9996    0.851757\n",
      "9997    0.851757\n",
      "9998    1.022108\n",
      "9999    1.192459\n",
      "Name: Timezone, Length: 9999, dtype: float64\n"
     ]
    }
   ],
   "source": [
    "print(newDF[\"Timezone\"]/newDF[\"Timezone\"].mean()/newDF[\"Timezone\"].std())"
   ]
  },
  {
   "cell_type": "code",
   "execution_count": 192,
   "id": "175e9730-6fa8-4b63-b9e5-d19fc890dc96",
   "metadata": {},
   "outputs": [
    {
     "name": "stdout",
     "output_type": "stream",
     "text": [
      "1        2951.0\n",
      "2       11303.0\n",
      "3       17125.0\n",
      "4        2162.0\n",
      "5        5287.0\n",
      "         ...   \n",
      "9995     7908.0\n",
      "9996     4762.0\n",
      "9997     1251.0\n",
      "9998      532.0\n",
      "9999      271.0\n",
      "Name: Population, Length: 9999, dtype: float64\n"
     ]
    }
   ],
   "source": [
    "from outliers import smirnov_grubbs as grubbs\n",
    "print(grubbs.test(newDF[\"Population\"], alpha= .05))"
   ]
  },
  {
   "cell_type": "code",
   "execution_count": 193,
   "id": "08d1fd24-90cc-43d4-8ed4-ea9c601f8d08",
   "metadata": {},
   "outputs": [
    {
     "name": "stdout",
     "output_type": "stream",
     "text": [
      "Series([], Name: Population, dtype: float64)\n"
     ]
    }
   ],
   "source": [
    "#Figure 17\n",
    "# #Check Smirnov Grubbs outlier tests\n",
    "# # min sided test to return outlier indices\n",
    "from outliers import smirnov_grubbs as grubbs\n",
    "print(newDF[\"Population\"].iloc[grubbs.max_test_indices(newDF[\"Population\"], alpha=.05)])"
   ]
  },
  {
   "cell_type": "code",
   "execution_count": 194,
   "id": "5a5feafc-f764-4da1-87ff-acdb9561988c",
   "metadata": {
    "tags": []
   },
   "outputs": [
    {
     "name": "stdout",
     "output_type": "stream",
     "text": [
      "Using matplotlib backend: Qt5Agg\n"
     ]
    }
   ],
   "source": [
    "import matplotlib.pyplot as plt\n",
    "import numpy as np\n",
    "%matplotlib\n",
    "plotKids = pd.DataFrame(newDF[\"Children\"])\n",
    "boxplot = plotKids.boxplot()"
   ]
  },
  {
   "cell_type": "code",
   "execution_count": 195,
   "id": "e282e5e6-595e-4b33-bbfc-d3c77137a08c",
   "metadata": {
    "tags": []
   },
   "outputs": [
    {
     "name": "stdout",
     "output_type": "stream",
     "text": [
      "2    3.000000\n",
      "4    0.000000\n",
      "4    0.000000\n",
      "1    1.000000\n",
      "3    3.000000\n",
      "       ...   \n",
      "7    0.000000\n",
      "3    3.000000\n",
      "5    2.097423\n",
      "4    0.000000\n",
      "4    0.000000\n",
      "Name: Children, Length: 9999, dtype: float64\n"
     ]
    }
   ],
   "source": [
    "from outliers import smirnov_grubbs as grubbs\n",
    "print(newDF[\"Children\"].iloc[grubbs.test(newDF[\"Children\"], alpha=.05)])"
   ]
  },
  {
   "cell_type": "code",
   "execution_count": 196,
   "id": "7e24e064-741e-4b07-87d8-ea37f42587c4",
   "metadata": {
    "tags": []
   },
   "outputs": [
    {
     "name": "stdout",
     "output_type": "stream",
     "text": [
      "2    3.000000\n",
      "4    0.000000\n",
      "4    0.000000\n",
      "1    1.000000\n",
      "3    3.000000\n",
      "       ...   \n",
      "7    0.000000\n",
      "3    3.000000\n",
      "5    2.097423\n",
      "4    0.000000\n",
      "4    0.000000\n",
      "Name: Children, Length: 9999, dtype: float64\n"
     ]
    }
   ],
   "source": [
    "from outliers import smirnov_grubbs as grubbs\n",
    "print(newDF[\"Children\"].iloc[grubbs.min_test(newDF[\"Children\"], alpha=.05)])"
   ]
  },
  {
   "cell_type": "code",
   "execution_count": 197,
   "id": "1967a219-a399-4758-8aa6-ff73609f0440",
   "metadata": {},
   "outputs": [
    {
     "name": "stdout",
     "output_type": "stream",
     "text": [
      "2    3.000000\n",
      "4    0.000000\n",
      "4    0.000000\n",
      "1    1.000000\n",
      "3    3.000000\n",
      "       ...   \n",
      "7    0.000000\n",
      "3    3.000000\n",
      "5    2.097423\n",
      "4    0.000000\n",
      "4    0.000000\n",
      "Name: Children, Length: 9999, dtype: float64\n"
     ]
    }
   ],
   "source": [
    "from outliers import smirnov_grubbs as grubbs\n",
    "print(newDF[\"Children\"].iloc[grubbs.max_test(newDF[\"Children\"], alpha=.05)])"
   ]
  },
  {
   "cell_type": "code",
   "execution_count": null,
   "id": "bb2a6eea-85dd-4d2a-9ba4-91634266f689",
   "metadata": {},
   "outputs": [],
   "source": []
  },
  {
   "cell_type": "code",
   "execution_count": 198,
   "id": "73a292ef-070a-4799-b8b3-c6ff6e56a9e9",
   "metadata": {},
   "outputs": [
    {
     "name": "stdout",
     "output_type": "stream",
     "text": [
      "Using matplotlib backend: Qt5Agg\n"
     ]
    }
   ],
   "source": [
    "import matplotlib.pyplot as plt\n",
    "import numpy as np\n",
    "%matplotlib\n",
    "plotAge = pd.DataFrame(newDF[\"Age\"])\n",
    "boxplot = plotAge.boxplot()"
   ]
  },
  {
   "cell_type": "code",
   "execution_count": 199,
   "id": "07f11d5c-df4c-460e-ba94-22bfecadde18",
   "metadata": {},
   "outputs": [
    {
     "data": {
      "text/plain": [
       "1       53.000000\n",
       "2       51.000000\n",
       "3       53.000000\n",
       "4       78.000000\n",
       "5       22.000000\n",
       "          ...    \n",
       "9995    69.000000\n",
       "9996    25.000000\n",
       "9997    87.000000\n",
       "9998    53.295676\n",
       "9999    43.000000\n",
       "Name: Age, Length: 9999, dtype: float64"
      ]
     },
     "execution_count": 199,
     "metadata": {},
     "output_type": "execute_result"
    }
   ],
   "source": [
    "from outliers import smirnov_grubbs as grubbs\n",
    "grubbs.test(newDF[\"Age\"], alpha= .05)"
   ]
  },
  {
   "cell_type": "code",
   "execution_count": 200,
   "id": "68666f54-09a1-4819-bf83-2086cf1f6fda",
   "metadata": {},
   "outputs": [
    {
     "data": {
      "text/plain": [
       "1       53.000000\n",
       "2       51.000000\n",
       "3       53.000000\n",
       "4       78.000000\n",
       "5       22.000000\n",
       "          ...    \n",
       "9995    69.000000\n",
       "9996    25.000000\n",
       "9997    87.000000\n",
       "9998    53.295676\n",
       "9999    43.000000\n",
       "Name: Age, Length: 9999, dtype: float64"
      ]
     },
     "execution_count": 200,
     "metadata": {},
     "output_type": "execute_result"
    }
   ],
   "source": [
    "from outliers import smirnov_grubbs as grubbs\n",
    "grubbs.max_test(newDF[\"Age\"], alpha= .05)"
   ]
  },
  {
   "cell_type": "code",
   "execution_count": 201,
   "id": "cdef0207-7e6a-40b6-a3d7-1fc5912ee1dc",
   "metadata": {},
   "outputs": [
    {
     "data": {
      "text/plain": [
       "1       53.000000\n",
       "2       51.000000\n",
       "3       53.000000\n",
       "4       78.000000\n",
       "5       22.000000\n",
       "          ...    \n",
       "9995    69.000000\n",
       "9996    25.000000\n",
       "9997    87.000000\n",
       "9998    53.295676\n",
       "9999    43.000000\n",
       "Name: Age, Length: 9999, dtype: float64"
      ]
     },
     "execution_count": 201,
     "metadata": {},
     "output_type": "execute_result"
    }
   ],
   "source": [
    "from outliers import smirnov_grubbs as grubbs\n",
    "grubbs.min_test(newDF[\"Age\"], alpha= .05)"
   ]
  },
  {
   "cell_type": "code",
   "execution_count": 202,
   "id": "8324d823-3c06-49a9-b474-44a5abf2d6dd",
   "metadata": {},
   "outputs": [
    {
     "name": "stdout",
     "output_type": "stream",
     "text": [
      "Using matplotlib backend: Qt5Agg\n"
     ]
    }
   ],
   "source": [
    "import matplotlib.pyplot as plt\n",
    "import numpy as np\n",
    "%matplotlib\n",
    "plotEdu = pd.DataFrame(newDF[\"Education\"])\n",
    "boxplot = plotEdu.boxplot()"
   ]
  },
  {
   "cell_type": "code",
   "execution_count": 203,
   "id": "24a7dbbe-24fe-44b2-a503-b22433ec8fd4",
   "metadata": {},
   "outputs": [
    {
     "data": {
      "text/plain": [
       "[]"
      ]
     },
     "execution_count": 203,
     "metadata": {},
     "output_type": "execute_result"
    }
   ],
   "source": [
    "from outliers import smirnov_grubbs as grubbs\n",
    "grubbs.min_test_indices(newDF[\"Education\"], alpha= .05)"
   ]
  },
  {
   "cell_type": "code",
   "execution_count": 204,
   "id": "2d1a0ccc-e6d0-4555-84b8-604d5a0dbd7d",
   "metadata": {},
   "outputs": [
    {
     "data": {
      "text/plain": [
       "[]"
      ]
     },
     "execution_count": 204,
     "metadata": {},
     "output_type": "execute_result"
    }
   ],
   "source": [
    "from outliers import smirnov_grubbs as grubbs\n",
    "grubbs.max_test_indices(newDF[\"Education\"], alpha= .05)"
   ]
  },
  {
   "cell_type": "code",
   "execution_count": 205,
   "id": "8a6cc8ae-7e1a-4393-9a84-cdb90507a0c9",
   "metadata": {},
   "outputs": [
    {
     "name": "stdout",
     "output_type": "stream",
     "text": [
      "1       0.305512\n",
      "2       0.329013\n",
      "3       0.329013\n",
      "4       0.282011\n",
      "5       0.282011\n",
      "          ...   \n",
      "9995    0.282011\n",
      "9996    0.376015\n",
      "9997    0.282011\n",
      "9998    0.282011\n",
      "9999    0.376015\n",
      "Name: Education, Length: 9999, dtype: float64\n"
     ]
    }
   ],
   "source": [
    "print(newDF[\"Education\"]/newDF[\"Education\"].mean()/newDF[\"Education\"].std())"
   ]
  },
  {
   "cell_type": "code",
   "execution_count": 206,
   "id": "2051f405-e10a-4e0b-84e4-8562e6e241ea",
   "metadata": {},
   "outputs": [
    {
     "name": "stdout",
     "output_type": "stream",
     "text": [
      "[]\n"
     ]
    }
   ],
   "source": [
    "# #Check Smirnov Grubbs outlier tests\n",
    "# # min sided test to return outlier indices\n",
    "# from outliers import smirnov_grubbs as grubbs\n",
    "print(grubbs.min_test_indices(newDF[\"Children\"], alpha=.05))"
   ]
  },
  {
   "cell_type": "code",
   "execution_count": 207,
   "id": "5c3aac6d-bc3d-4317-ac45-0462f854d460",
   "metadata": {},
   "outputs": [
    {
     "name": "stdout",
     "output_type": "stream",
     "text": [
      "Using matplotlib backend: Qt5Agg\n"
     ]
    }
   ],
   "source": [
    "import matplotlib.pyplot as plt\n",
    "import numpy as np\n",
    "%matplotlib\n",
    "plotIncome = pd.DataFrame(newDF[\"Household_Income\"])\n",
    "boxplot = plotIncome.boxplot()"
   ]
  },
  {
   "cell_type": "code",
   "execution_count": 208,
   "id": "11137f2c-d736-4673-b478-4f109bad4ac6",
   "metadata": {},
   "outputs": [
    {
     "data": {
      "text/plain": [
       "1       86575.93\n",
       "2       46805.99\n",
       "3       14370.14\n",
       "4       39741.49\n",
       "5        1209.56\n",
       "          ...   \n",
       "9995    39797.05\n",
       "9996    45967.61\n",
       "9997    14983.02\n",
       "9998    65917.81\n",
       "9999    29702.32\n",
       "Name: Household_Income, Length: 9999, dtype: float64"
      ]
     },
     "execution_count": 208,
     "metadata": {},
     "output_type": "execute_result"
    }
   ],
   "source": [
    "from outliers import smirnov_grubbs as grubbs\n",
    "grubbs.test(newDF[\"Household_Income\"], alpha= .05)"
   ]
  },
  {
   "cell_type": "code",
   "execution_count": 6,
   "id": "20325517-b1a6-4433-aa09-74c83fe15674",
   "metadata": {},
   "outputs": [
    {
     "ename": "NameError",
     "evalue": "name 'newDF' is not defined",
     "output_type": "error",
     "traceback": [
      "\u001b[1;31m---------------------------------------------------------------------------\u001b[0m",
      "\u001b[1;31mNameError\u001b[0m                                 Traceback (most recent call last)",
      "\u001b[1;32m<ipython-input-6-b8d26f19dd43>\u001b[0m in \u001b[0;36m<module>\u001b[1;34m\u001b[0m\n\u001b[0;32m      1\u001b[0m \u001b[1;32mfrom\u001b[0m \u001b[0moutliers\u001b[0m \u001b[1;32mimport\u001b[0m \u001b[0msmirnov_grubbs\u001b[0m \u001b[1;32mas\u001b[0m \u001b[0mgrubbs\u001b[0m\u001b[1;33m\u001b[0m\u001b[1;33m\u001b[0m\u001b[0m\n\u001b[1;32m----> 2\u001b[1;33m \u001b[0mnewDF\u001b[0m\u001b[1;33m.\u001b[0m\u001b[0miloc\u001b[0m\u001b[1;33m[\u001b[0m\u001b[0mgrubbs\u001b[0m\u001b[1;33m.\u001b[0m\u001b[0mmax_test_indices\u001b[0m\u001b[1;33m(\u001b[0m\u001b[0mnewDF\u001b[0m\u001b[1;33m[\u001b[0m\u001b[1;34m\"Household_Income\"\u001b[0m\u001b[1;33m]\u001b[0m\u001b[1;33m,\u001b[0m \u001b[0malpha\u001b[0m\u001b[1;33m=\u001b[0m \u001b[1;36m.05\u001b[0m\u001b[1;33m)\u001b[0m\u001b[1;33m]\u001b[0m\u001b[1;33m\u001b[0m\u001b[1;33m\u001b[0m\u001b[0m\n\u001b[0m\u001b[0;32m      3\u001b[0m \u001b[0mprint\u001b[0m\u001b[1;33m(\u001b[0m\u001b[0mnewDF\u001b[0m\u001b[1;33m.\u001b[0m\u001b[0miloc\u001b[0m\u001b[1;33m[\u001b[0m\u001b[0mgrubbs\u001b[0m\u001b[1;33m.\u001b[0m\u001b[0mmax_test_indices\u001b[0m\u001b[1;33m(\u001b[0m\u001b[0mnewDF\u001b[0m\u001b[1;33m[\u001b[0m\u001b[1;34m\"Household_Income\"\u001b[0m\u001b[1;33m]\u001b[0m\u001b[1;33m,\u001b[0m \u001b[0malpha\u001b[0m\u001b[1;33m=\u001b[0m \u001b[1;36m.05\u001b[0m\u001b[1;33m)\u001b[0m\u001b[1;33m]\u001b[0m\u001b[1;33m)\u001b[0m\u001b[1;33m\u001b[0m\u001b[1;33m\u001b[0m\u001b[0m\n",
      "\u001b[1;31mNameError\u001b[0m: name 'newDF' is not defined"
     ]
    }
   ],
   "source": [
    "from outliers import smirnov_grubbs as grubbs\n",
    "newDF.iloc[grubbs.max_test_indices(newDF[\"Household_Income\"], alpha= .05)]\n",
    "print(newDF.iloc[grubbs.max_test_indices(newDF[\"Household_Income\"], alpha= .05)])"
   ]
  },
  {
   "cell_type": "code",
   "execution_count": 7,
   "id": "16e23da1-5446-4170-962a-bb99ebf0ce63",
   "metadata": {},
   "outputs": [
    {
     "ename": "NameError",
     "evalue": "name 'newDF' is not defined",
     "output_type": "error",
     "traceback": [
      "\u001b[1;31m---------------------------------------------------------------------------\u001b[0m",
      "\u001b[1;31mNameError\u001b[0m                                 Traceback (most recent call last)",
      "\u001b[1;32m<ipython-input-7-e245ee68c2fb>\u001b[0m in \u001b[0;36m<module>\u001b[1;34m\u001b[0m\n\u001b[0;32m      1\u001b[0m \u001b[1;32mfrom\u001b[0m \u001b[0moutliers\u001b[0m \u001b[1;32mimport\u001b[0m \u001b[0msmirnov_grubbs\u001b[0m \u001b[1;32mas\u001b[0m \u001b[0mgrubbs\u001b[0m\u001b[1;33m\u001b[0m\u001b[1;33m\u001b[0m\u001b[0m\n\u001b[1;32m----> 2\u001b[1;33m \u001b[0mprint\u001b[0m\u001b[1;33m(\u001b[0m\u001b[0mnewDF\u001b[0m\u001b[1;33m.\u001b[0m\u001b[0miloc\u001b[0m\u001b[1;33m[\u001b[0m\u001b[0mgrubbs\u001b[0m\u001b[1;33m.\u001b[0m\u001b[0mmin_test_indices\u001b[0m\u001b[1;33m(\u001b[0m\u001b[0mnewDF\u001b[0m\u001b[1;33m[\u001b[0m\u001b[1;34m\"Household_Income\"\u001b[0m\u001b[1;33m]\u001b[0m\u001b[1;33m,\u001b[0m \u001b[0malpha\u001b[0m\u001b[1;33m=\u001b[0m \u001b[1;36m.05\u001b[0m\u001b[1;33m)\u001b[0m\u001b[1;33m]\u001b[0m\u001b[1;33m)\u001b[0m\u001b[1;33m\u001b[0m\u001b[1;33m\u001b[0m\u001b[0m\n\u001b[0m",
      "\u001b[1;31mNameError\u001b[0m: name 'newDF' is not defined"
     ]
    }
   ],
   "source": [
    "from outliers import smirnov_grubbs as grubbs\n",
    "print(newDF.iloc[grubbs.min_test_indices(newDF[\"Household_Income\"], alpha= .05)])"
   ]
  },
  {
   "cell_type": "code",
   "execution_count": 8,
   "id": "4f453b8c-54b3-4237-8fee-1996fd4db536",
   "metadata": {},
   "outputs": [
    {
     "ename": "NameError",
     "evalue": "name 'newDF' is not defined",
     "output_type": "error",
     "traceback": [
      "\u001b[1;31m---------------------------------------------------------------------------\u001b[0m",
      "\u001b[1;31mNameError\u001b[0m                                 Traceback (most recent call last)",
      "\u001b[1;32m<ipython-input-8-7f7838b5ab28>\u001b[0m in \u001b[0;36m<module>\u001b[1;34m\u001b[0m\n\u001b[1;32m----> 1\u001b[1;33m \u001b[0mprint\u001b[0m\u001b[1;33m(\u001b[0m\u001b[0mnewDF\u001b[0m\u001b[1;33m[\u001b[0m\u001b[1;34m\"Household_Income\"\u001b[0m\u001b[1;33m]\u001b[0m\u001b[1;33m/\u001b[0m\u001b[0mnewDF\u001b[0m\u001b[1;33m[\u001b[0m\u001b[1;34m\"Household_Income\"\u001b[0m\u001b[1;33m]\u001b[0m\u001b[1;33m.\u001b[0m\u001b[0mmean\u001b[0m\u001b[1;33m(\u001b[0m\u001b[1;33m)\u001b[0m\u001b[1;33m/\u001b[0m\u001b[0mnewDF\u001b[0m\u001b[1;33m[\u001b[0m\u001b[1;34m\"Household_Income\"\u001b[0m\u001b[1;33m]\u001b[0m\u001b[1;33m.\u001b[0m\u001b[0mstd\u001b[0m\u001b[1;33m(\u001b[0m\u001b[1;33m)\u001b[0m\u001b[1;33m)\u001b[0m\u001b[1;33m\u001b[0m\u001b[1;33m\u001b[0m\u001b[0m\n\u001b[0m",
      "\u001b[1;31mNameError\u001b[0m: name 'newDF' is not defined"
     ]
    }
   ],
   "source": [
    "print(newDF[\"Household_Income\"]/newDF[\"Household_Income\"].mean()/newDF[\"Household_Income\"].std())"
   ]
  },
  {
   "cell_type": "code",
   "execution_count": 212,
   "id": "ef60dab6-3898-46a4-8841-5945ab3ff64a",
   "metadata": {},
   "outputs": [
    {
     "name": "stdout",
     "output_type": "stream",
     "text": [
      "Using matplotlib backend: Qt5Agg\n"
     ]
    }
   ],
   "source": [
    "import matplotlib.pyplot as plt\n",
    "import numpy as np\n",
    "%matplotlib\n",
    "plotIncome = pd.DataFrame(newDF[\"Gender\"])\n",
    "boxplot = plotIncome.boxplot()"
   ]
  },
  {
   "cell_type": "code",
   "execution_count": 213,
   "id": "a752c42c-f879-439a-a0b0-06724bd9fb32",
   "metadata": {},
   "outputs": [
    {
     "name": "stdout",
     "output_type": "stream",
     "text": [
      "Using matplotlib backend: Qt5Agg\n"
     ]
    }
   ],
   "source": [
    "import matplotlib.pyplot as plt\n",
    "import numpy as np\n",
    "%matplotlib\n",
    "plotIncome = pd.DataFrame(newDF[\"ReAdmis\"])\n",
    "boxplot = plotIncome.boxplot()"
   ]
  },
  {
   "cell_type": "code",
   "execution_count": 214,
   "id": "b1884395-7e8e-4c22-9475-085a9e456d4b",
   "metadata": {},
   "outputs": [
    {
     "name": "stdout",
     "output_type": "stream",
     "text": [
      "Using matplotlib backend: Qt5Agg\n"
     ]
    }
   ],
   "source": [
    "import matplotlib.pyplot as plt\n",
    "import numpy as np\n",
    "%matplotlib\n",
    "plotVitD = pd.DataFrame(newDF[\"VitD_levels\"])\n",
    "boxplot = plotVitD.boxplot()"
   ]
  },
  {
   "cell_type": "code",
   "execution_count": 215,
   "id": "f939221e-023c-4113-8da5-4eeef90e8ef6",
   "metadata": {},
   "outputs": [
    {
     "name": "stdout",
     "output_type": "stream",
     "text": [
      "Empty DataFrame\n",
      "Columns: [State, Zip, Lat, Lng, Population, Area, Timezone, Children, Age, Education, Employment, Household_Income, Marital, Gender, ReAdmis, VitD_levels, Doc_visits, Full_meals_eaten, VitD_supp, Soft_drink, Initial_admin, HighBlood, Stroke, Complication_risk, Overweight, Arthritis, Diabetes, Hyperlipidemia, BackPain, Anxiety, Allergic_rhinitis, Reflux_esophagitis, Asthma, Services, Initial_days, Daily_Average_Charges, Additional_charges, Timely_Admission, Timely_Treatment, Timely_Visits, Reliability, Options, Hours_Treatment, Courteous_Staff, Active_Listening]\n",
      "Index: []\n",
      "\n",
      "[0 rows x 45 columns]\n"
     ]
    }
   ],
   "source": [
    "from outliers import smirnov_grubbs as grubbs\n",
    "print(newDF.iloc[grubbs.max_test_indices(newDF[\"VitD_levels\"], alpha= .05)])"
   ]
  },
  {
   "cell_type": "code",
   "execution_count": 216,
   "id": "247c3c82-3ffb-4107-8eee-19d6ac7134fa",
   "metadata": {},
   "outputs": [
    {
     "name": "stdout",
     "output_type": "stream",
     "text": [
      "Empty DataFrame\n",
      "Columns: [State, Zip, Lat, Lng, Population, Area, Timezone, Children, Age, Education, Employment, Household_Income, Marital, Gender, ReAdmis, VitD_levels, Doc_visits, Full_meals_eaten, VitD_supp, Soft_drink, Initial_admin, HighBlood, Stroke, Complication_risk, Overweight, Arthritis, Diabetes, Hyperlipidemia, BackPain, Anxiety, Allergic_rhinitis, Reflux_esophagitis, Asthma, Services, Initial_days, Daily_Average_Charges, Additional_charges, Timely_Admission, Timely_Treatment, Timely_Visits, Reliability, Options, Hours_Treatment, Courteous_Staff, Active_Listening]\n",
      "Index: []\n",
      "\n",
      "[0 rows x 45 columns]\n"
     ]
    }
   ],
   "source": [
    "from outliers import smirnov_grubbs as grubbs\n",
    "print(newDF.iloc[grubbs.min_test_indices(newDF[\"VitD_levels\"], alpha= .05)])"
   ]
  },
  {
   "cell_type": "code",
   "execution_count": 217,
   "id": "93509b48-02ea-434f-882f-b4c6dd67eb10",
   "metadata": {},
   "outputs": [
    {
     "data": {
      "text/plain": [
       "1       17.802330\n",
       "2       18.994640\n",
       "3       17.415889\n",
       "4       17.420079\n",
       "5       16.870524\n",
       "          ...    \n",
       "9995    17.229222\n",
       "9996    16.481612\n",
       "9997    18.451601\n",
       "9998    15.752751\n",
       "9999    21.956305\n",
       "Name: VitD_levels, Length: 9999, dtype: float64"
      ]
     },
     "execution_count": 217,
     "metadata": {},
     "output_type": "execute_result"
    }
   ],
   "source": [
    "from outliers import smirnov_grubbs as grubbs\n",
    "grubbs.test(newDF[\"VitD_levels\"], alpha= .05)"
   ]
  },
  {
   "cell_type": "code",
   "execution_count": 218,
   "id": "5586b543-5410-4ff1-b99f-e27a5e000ec6",
   "metadata": {},
   "outputs": [
    {
     "name": "stdout",
     "output_type": "stream",
     "text": [
      "Using matplotlib backend: Qt5Agg\n",
      "------------------------------Max Grubbs----------------------------------------\n",
      "Empty DataFrame\n",
      "Columns: [State, Zip, Lat, Lng, Population, Area, Timezone, Children, Age, Education, Employment, Household_Income, Marital, Gender, ReAdmis, VitD_levels, Doc_visits, Full_meals_eaten, VitD_supp, Soft_drink, Initial_admin, HighBlood, Stroke, Complication_risk, Overweight, Arthritis, Diabetes, Hyperlipidemia, BackPain, Anxiety, Allergic_rhinitis, Reflux_esophagitis, Asthma, Services, Initial_days, Daily_Average_Charges, Additional_charges, Timely_Admission, Timely_Treatment, Timely_Visits, Reliability, Options, Hours_Treatment, Courteous_Staff, Active_Listening]\n",
      "Index: []\n",
      "\n",
      "[0 rows x 45 columns]\n",
      "------------------------------Min Grubbs----------------------------------------\n",
      "Empty DataFrame\n",
      "Columns: [State, Zip, Lat, Lng, Population, Area, Timezone, Children, Age, Education, Employment, Household_Income, Marital, Gender, ReAdmis, VitD_levels, Doc_visits, Full_meals_eaten, VitD_supp, Soft_drink, Initial_admin, HighBlood, Stroke, Complication_risk, Overweight, Arthritis, Diabetes, Hyperlipidemia, BackPain, Anxiety, Allergic_rhinitis, Reflux_esophagitis, Asthma, Services, Initial_days, Daily_Average_Charges, Additional_charges, Timely_Admission, Timely_Treatment, Timely_Visits, Reliability, Options, Hours_Treatment, Courteous_Staff, Active_Listening]\n",
      "Index: []\n",
      "\n",
      "[0 rows x 45 columns]\n"
     ]
    },
    {
     "data": {
      "text/plain": [
       "1       6\n",
       "2       4\n",
       "3       4\n",
       "4       4\n",
       "5       5\n",
       "       ..\n",
       "9995    4\n",
       "9996    4\n",
       "9997    5\n",
       "9998    4\n",
       "9999    5\n",
       "Name: Doc_visits, Length: 9999, dtype: int64"
      ]
     },
     "execution_count": 218,
     "metadata": {},
     "output_type": "execute_result"
    }
   ],
   "source": [
    "import matplotlib.pyplot as plt\n",
    "import numpy as np\n",
    "%matplotlib\n",
    "plotDocVisits = pd.DataFrame(newDF[\"Doc_visits\"])\n",
    "boxplot = plotDocVisits.boxplot()\n",
    "from outliers import smirnov_grubbs as grubbs\n",
    "print(\"------------------------------Max Grubbs----------------------------------------\")\n",
    "print(newDF.iloc[grubbs.max_test_indices(newDF[\"Doc_visits\"], alpha= .05)])\n",
    "print(\"------------------------------Min Grubbs----------------------------------------\")\n",
    "print(newDF.iloc[grubbs.min_test_indices(newDF[\"Doc_visits\"], alpha= .05)])\n",
    "\n",
    "grubbs.test(newDF[\"Doc_visits\"], alpha= .05)"
   ]
  },
  {
   "cell_type": "code",
   "execution_count": 219,
   "id": "2b9c4b56-69fa-4791-8f1d-14e15906be64",
   "metadata": {},
   "outputs": [
    {
     "name": "stdout",
     "output_type": "stream",
     "text": [
      "Using matplotlib backend: Qt5Agg\n",
      "1       0\n",
      "2       2\n",
      "3       1\n",
      "4       1\n",
      "5       0\n",
      "       ..\n",
      "9995    0\n",
      "9996    2\n",
      "9997    0\n",
      "9998    2\n",
      "9999    2\n",
      "Name: Full_meals_eaten, Length: 9999, dtype: int64\n",
      "------------------------------Max Grubbs----------------------------------------\n",
      "Empty DataFrame\n",
      "Columns: [State, Zip, Lat, Lng, Population, Area, Timezone, Children, Age, Education, Employment, Household_Income, Marital, Gender, ReAdmis, VitD_levels, Doc_visits, Full_meals_eaten, VitD_supp, Soft_drink, Initial_admin, HighBlood, Stroke, Complication_risk, Overweight, Arthritis, Diabetes, Hyperlipidemia, BackPain, Anxiety, Allergic_rhinitis, Reflux_esophagitis, Asthma, Services, Initial_days, Daily_Average_Charges, Additional_charges, Timely_Admission, Timely_Treatment, Timely_Visits, Reliability, Options, Hours_Treatment, Courteous_Staff, Active_Listening]\n",
      "Index: []\n",
      "\n",
      "[0 rows x 45 columns]\n"
     ]
    }
   ],
   "source": [
    "import matplotlib.pyplot as plt\n",
    "import numpy as np\n",
    "%matplotlib\n",
    "plotFullMeals = pd.DataFrame(newDF[\"Full_meals_eaten\"])\n",
    "boxplot = plotFullMeals.boxplot()\n",
    "from outliers import smirnov_grubbs as grubbs\n",
    "print(grubbs.test(newDF[\"Full_meals_eaten\"], alpha= .05))\n",
    "print(\"------------------------------Max Grubbs----------------------------------------\")\n",
    "print(newDF.iloc[grubbs.max_test_indices(newDF[\"Full_meals_eaten\"], alpha= .05)])"
   ]
  },
  {
   "cell_type": "code",
   "execution_count": 220,
   "id": "8bce3937-56af-4457-afe9-427e478c6940",
   "metadata": {},
   "outputs": [
    {
     "name": "stdout",
     "output_type": "stream",
     "text": [
      "1       0.000000\n",
      "2       1.980924\n",
      "3       0.990462\n",
      "4       0.990462\n",
      "5       0.000000\n",
      "          ...   \n",
      "9995    0.000000\n",
      "9996    1.980924\n",
      "9997    0.000000\n",
      "9998    1.980924\n",
      "9999    1.980924\n",
      "Name: Full_meals_eaten, Length: 9999, dtype: float64\n"
     ]
    }
   ],
   "source": [
    "print(newDF[\"Full_meals_eaten\"]/newDF[\"Full_meals_eaten\"].mean()/newDF[\"Full_meals_eaten\"].std())"
   ]
  },
  {
   "cell_type": "code",
   "execution_count": 221,
   "id": "110ffe25-78ad-4d15-a9be-e88560e8614e",
   "metadata": {},
   "outputs": [
    {
     "name": "stdout",
     "output_type": "stream",
     "text": [
      "Using matplotlib backend: Qt5Agg\n"
     ]
    },
    {
     "data": {
      "text/plain": [
       "1       0\n",
       "2       1\n",
       "3       0\n",
       "4       0\n",
       "5       2\n",
       "       ..\n",
       "9995    2\n",
       "9996    1\n",
       "9997    0\n",
       "9998    0\n",
       "9999    1\n",
       "Name: VitD_supp, Length: 9999, dtype: int64"
      ]
     },
     "execution_count": 221,
     "metadata": {},
     "output_type": "execute_result"
    }
   ],
   "source": [
    "import matplotlib.pyplot as plt\n",
    "import numpy as np\n",
    "%matplotlib\n",
    "plotDocVisits = pd.DataFrame(newDF[\"VitD_supp\"])\n",
    "boxplot = plotDocVisits.boxplot()\n",
    "from outliers import smirnov_grubbs as grubbs\n",
    "grubbs.test(newDF[\"VitD_supp\"], alpha= .05)"
   ]
  },
  {
   "cell_type": "code",
   "execution_count": 222,
   "id": "a55a707d-f344-4447-8824-b271f4e944eb",
   "metadata": {},
   "outputs": [
    {
     "name": "stdout",
     "output_type": "stream",
     "text": [
      "1       0.000000\n",
      "2       3.989247\n",
      "3       0.000000\n",
      "4       0.000000\n",
      "5       7.978495\n",
      "          ...   \n",
      "9995    7.978495\n",
      "9996    3.989247\n",
      "9997    0.000000\n",
      "9998    0.000000\n",
      "9999    3.989247\n",
      "Name: VitD_supp, Length: 9999, dtype: float64\n"
     ]
    }
   ],
   "source": [
    "print(newDF[\"VitD_supp\"]/newDF[\"VitD_supp\"].mean()/newDF[\"VitD_supp\"].std())"
   ]
  },
  {
   "cell_type": "code",
   "execution_count": 223,
   "id": "c1526827-4fbe-4c33-9c03-5e14e92c2462",
   "metadata": {},
   "outputs": [
    {
     "name": "stdout",
     "output_type": "stream",
     "text": [
      "Using matplotlib backend: Qt5Agg\n",
      "1       0.258099\n",
      "2       0.000000\n",
      "3       0.000000\n",
      "4       0.000000\n",
      "5       1.000000\n",
      "          ...   \n",
      "9995    0.000000\n",
      "9996    0.000000\n",
      "9997    0.000000\n",
      "9998    1.000000\n",
      "9999    0.000000\n",
      "Name: Soft_drink, Length: 9999, dtype: float64\n",
      "------------------------------Max Grubbs----------------------------------------\n",
      "Empty DataFrame\n",
      "Columns: [State, Zip, Lat, Lng, Population, Area, Timezone, Children, Age, Education, Employment, Household_Income, Marital, Gender, ReAdmis, VitD_levels, Doc_visits, Full_meals_eaten, VitD_supp, Soft_drink, Initial_admin, HighBlood, Stroke, Complication_risk, Overweight, Arthritis, Diabetes, Hyperlipidemia, BackPain, Anxiety, Allergic_rhinitis, Reflux_esophagitis, Asthma, Services, Initial_days, Daily_Average_Charges, Additional_charges, Timely_Admission, Timely_Treatment, Timely_Visits, Reliability, Options, Hours_Treatment, Courteous_Staff, Active_Listening]\n",
      "Index: []\n",
      "\n",
      "[0 rows x 45 columns]\n"
     ]
    }
   ],
   "source": [
    "import matplotlib.pyplot as plt\n",
    "import numpy as np\n",
    "%matplotlib\n",
    "plotFullMeals = pd.DataFrame(newDF[\"Soft_drink\"])\n",
    "boxplot = plotFullMeals.boxplot()\n",
    "from outliers import smirnov_grubbs as grubbs\n",
    "print(grubbs.test(newDF[\"Soft_drink\"], alpha= .05))\n",
    "print(\"------------------------------Max Grubbs----------------------------------------\")\n",
    "print(newDF.iloc[grubbs.max_test_indices(newDF[\"Soft_drink\"], alpha= .05)])"
   ]
  },
  {
   "cell_type": "code",
   "execution_count": 224,
   "id": "01e594c4-4a19-467e-b4d9-1af71ff55635",
   "metadata": {},
   "outputs": [
    {
     "name": "stdout",
     "output_type": "stream",
     "text": [
      "Using matplotlib backend: Qt5Agg\n",
      "1       1\n",
      "2       1\n",
      "3       2\n",
      "4       2\n",
      "5       2\n",
      "       ..\n",
      "9995    1\n",
      "9996    1\n",
      "9997    2\n",
      "9998    2\n",
      "9999    1\n",
      "Name: Initial_admin, Length: 9999, dtype: int64\n",
      "------------------------------Max Grubbs----------------------------------------\n",
      "Empty DataFrame\n",
      "Columns: [State, Zip, Lat, Lng, Population, Area, Timezone, Children, Age, Education, Employment, Household_Income, Marital, Gender, ReAdmis, VitD_levels, Doc_visits, Full_meals_eaten, VitD_supp, Soft_drink, Initial_admin, HighBlood, Stroke, Complication_risk, Overweight, Arthritis, Diabetes, Hyperlipidemia, BackPain, Anxiety, Allergic_rhinitis, Reflux_esophagitis, Asthma, Services, Initial_days, Daily_Average_Charges, Additional_charges, Timely_Admission, Timely_Treatment, Timely_Visits, Reliability, Options, Hours_Treatment, Courteous_Staff, Active_Listening]\n",
      "Index: []\n",
      "\n",
      "[0 rows x 45 columns]\n"
     ]
    }
   ],
   "source": [
    "import matplotlib.pyplot as plt\n",
    "import numpy as np\n",
    "%matplotlib\n",
    "plotFullMeals = pd.DataFrame(newDF[\"Initial_admin\"])\n",
    "boxplot = plotFullMeals.boxplot()\n",
    "from outliers import smirnov_grubbs as grubbs\n",
    "print(grubbs.test(newDF[\"Initial_admin\"], alpha= .05))\n",
    "print(\"------------------------------Max Grubbs----------------------------------------\")\n",
    "print(newDF.iloc[grubbs.max_test_indices(newDF[\"Initial_admin\"], alpha= .05)])"
   ]
  },
  {
   "cell_type": "code",
   "execution_count": 225,
   "id": "e7381aab-0038-4609-b4f7-ea09572625f1",
   "metadata": {},
   "outputs": [
    {
     "name": "stdout",
     "output_type": "stream",
     "text": [
      "Using matplotlib backend: Qt5Agg\n"
     ]
    },
    {
     "data": {
      "text/plain": [
       "1       1\n",
       "2       1\n",
       "3       1\n",
       "4       0\n",
       "5       0\n",
       "       ..\n",
       "9995    0\n",
       "9996    1\n",
       "9997    1\n",
       "9998    1\n",
       "9999    0\n",
       "Name: HighBlood, Length: 9999, dtype: int64"
      ]
     },
     "execution_count": 225,
     "metadata": {},
     "output_type": "execute_result"
    }
   ],
   "source": [
    "import matplotlib.pyplot as plt\n",
    "import numpy as np\n",
    "%matplotlib\n",
    "plotFullMeals = pd.DataFrame(newDF[\"HighBlood\"])\n",
    "boxplot = plotFullMeals.boxplot()\n",
    "grubbs.min_test(newDF[\"HighBlood\"], alpha= .05)"
   ]
  },
  {
   "cell_type": "code",
   "execution_count": 226,
   "id": "020fb34f-4e08-41cb-9d7b-da5591572f28",
   "metadata": {},
   "outputs": [
    {
     "name": "stdout",
     "output_type": "stream",
     "text": [
      "Using matplotlib backend: Qt5Agg\n"
     ]
    },
    {
     "data": {
      "text/plain": [
       "1       0\n",
       "2       0\n",
       "3       0\n",
       "4       1\n",
       "5       0\n",
       "       ..\n",
       "9995    0\n",
       "9996    0\n",
       "9997    0\n",
       "9998    0\n",
       "9999    0\n",
       "Name: Stroke, Length: 9999, dtype: int64"
      ]
     },
     "execution_count": 226,
     "metadata": {},
     "output_type": "execute_result"
    }
   ],
   "source": [
    "import matplotlib.pyplot as plt\n",
    "import numpy as np\n",
    "%matplotlib\n",
    "plotFullMeals = pd.DataFrame(newDF[\"Stroke\"])\n",
    "boxplot = plotFullMeals.boxplot()\n",
    "grubbs.max_test(newDF[\"Stroke\"], alpha= .05)"
   ]
  },
  {
   "cell_type": "code",
   "execution_count": 227,
   "id": "7e167e61-a679-4146-b5e2-6adb4997ba2e",
   "metadata": {},
   "outputs": [
    {
     "name": "stdout",
     "output_type": "stream",
     "text": [
      "Using matplotlib backend: Qt5Agg\n"
     ]
    },
    {
     "data": {
      "text/plain": [
       "1       0.000000\n",
       "2       1.000000\n",
       "3       1.000000\n",
       "4       0.000000\n",
       "5       0.000000\n",
       "          ...   \n",
       "9995    0.000000\n",
       "9996    0.709105\n",
       "9997    1.000000\n",
       "9998    1.000000\n",
       "9999    1.000000\n",
       "Name: Overweight, Length: 9999, dtype: float64"
      ]
     },
     "execution_count": 227,
     "metadata": {},
     "output_type": "execute_result"
    }
   ],
   "source": [
    "import matplotlib.pyplot as plt\n",
    "import numpy as np\n",
    "%matplotlib\n",
    "plotFullMeals = pd.DataFrame(newDF[\"Overweight\"])\n",
    "boxplot = plotFullMeals.boxplot()\n",
    "grubbs.max_test(newDF[\"Overweight\"], alpha= .05)"
   ]
  },
  {
   "cell_type": "code",
   "execution_count": 228,
   "id": "51f8d295-2fd9-471a-b7cf-f3abf6358585",
   "metadata": {},
   "outputs": [
    {
     "name": "stdout",
     "output_type": "stream",
     "text": [
      "Using matplotlib backend: Qt5Agg\n"
     ]
    },
    {
     "data": {
      "text/plain": [
       "1       1\n",
       "2       0\n",
       "3       0\n",
       "4       1\n",
       "5       0\n",
       "       ..\n",
       "9995    1\n",
       "9996    0\n",
       "9997    1\n",
       "9998    0\n",
       "9999    0\n",
       "Name: Arthritis, Length: 9999, dtype: int64"
      ]
     },
     "execution_count": 228,
     "metadata": {},
     "output_type": "execute_result"
    }
   ],
   "source": [
    "import matplotlib.pyplot as plt\n",
    "import numpy as np\n",
    "%matplotlib\n",
    "plotFullMeals = pd.DataFrame(newDF[\"Arthritis\"])\n",
    "boxplot = plotFullMeals.boxplot()\n",
    "grubbs.min_test(newDF[\"Arthritis\"], alpha= .05)"
   ]
  },
  {
   "cell_type": "code",
   "execution_count": 229,
   "id": "c66dfd3c-e2dd-405d-a458-2b4169ab280b",
   "metadata": {},
   "outputs": [
    {
     "name": "stdout",
     "output_type": "stream",
     "text": [
      "Using matplotlib backend: Qt5Agg\n"
     ]
    },
    {
     "data": {
      "text/plain": [
       "1       1\n",
       "2       0\n",
       "3       1\n",
       "4       0\n",
       "5       0\n",
       "       ..\n",
       "9995    0\n",
       "9996    0\n",
       "9997    1\n",
       "9998    0\n",
       "9999    0\n",
       "Name: Diabetes, Length: 9999, dtype: int64"
      ]
     },
     "execution_count": 229,
     "metadata": {},
     "output_type": "execute_result"
    }
   ],
   "source": [
    "import matplotlib.pyplot as plt\n",
    "import numpy as np\n",
    "%matplotlib\n",
    "plotFullMeals = pd.DataFrame(newDF[\"Diabetes\"])\n",
    "boxplot = plotFullMeals.boxplot()\n",
    "grubbs.min_test(newDF[\"Diabetes\"], alpha= .05)"
   ]
  },
  {
   "cell_type": "code",
   "execution_count": 230,
   "id": "646d5485-c45d-4042-8461-eb4b87596532",
   "metadata": {},
   "outputs": [
    {
     "name": "stdout",
     "output_type": "stream",
     "text": [
      "Using matplotlib backend: Qt5Agg\n"
     ]
    },
    {
     "data": {
      "text/plain": [
       "1       0\n",
       "2       0\n",
       "3       0\n",
       "4       0\n",
       "5       1\n",
       "       ..\n",
       "9995    0\n",
       "9996    0\n",
       "9997    0\n",
       "9998    0\n",
       "9999    0\n",
       "Name: Hyperlipidemia, Length: 9999, dtype: int64"
      ]
     },
     "execution_count": 230,
     "metadata": {},
     "output_type": "execute_result"
    }
   ],
   "source": [
    "import matplotlib.pyplot as plt\n",
    "import numpy as np\n",
    "%matplotlib\n",
    "plotFullMeals = pd.DataFrame(newDF[\"Hyperlipidemia\"])\n",
    "boxplot = plotFullMeals.boxplot()\n",
    "grubbs.max_test(newDF[\"Hyperlipidemia\"], alpha= .05)"
   ]
  },
  {
   "cell_type": "code",
   "execution_count": 231,
   "id": "c8baa0ba-c26e-4ab6-b067-0aed0dca0828",
   "metadata": {},
   "outputs": [
    {
     "name": "stdout",
     "output_type": "stream",
     "text": [
      "Using matplotlib backend: Qt5Agg\n"
     ]
    },
    {
     "data": {
      "text/plain": [
       "1       1\n",
       "2       0\n",
       "3       0\n",
       "4       0\n",
       "5       0\n",
       "       ..\n",
       "9995    0\n",
       "9996    0\n",
       "9997    0\n",
       "9998    0\n",
       "9999    1\n",
       "Name: BackPain, Length: 9999, dtype: int64"
      ]
     },
     "execution_count": 231,
     "metadata": {},
     "output_type": "execute_result"
    }
   ],
   "source": [
    "import matplotlib.pyplot as plt\n",
    "import numpy as np\n",
    "%matplotlib\n",
    "plotFullMeals = pd.DataFrame(newDF[\"BackPain\"])\n",
    "boxplot = plotFullMeals.boxplot()\n",
    "grubbs.min_test(newDF[\"BackPain\"], alpha= .05)"
   ]
  },
  {
   "cell_type": "code",
   "execution_count": 232,
   "id": "42019667-d180-4f41-b625-b99caa91b4ac",
   "metadata": {},
   "outputs": [
    {
     "name": "stdout",
     "output_type": "stream",
     "text": [
      "Using matplotlib backend: Qt5Agg\n"
     ]
    }
   ],
   "source": [
    "import matplotlib.pyplot as plt\n",
    "import numpy as np\n",
    "%matplotlib\n",
    "plotFullMeals = pd.DataFrame(newDF[\"Anxiety\"])\n",
    "boxplot = plotFullMeals.boxplot()\n"
   ]
  },
  {
   "cell_type": "code",
   "execution_count": 233,
   "id": "4db39ad5-afc6-4d31-bc88-1750fb90325b",
   "metadata": {},
   "outputs": [
    {
     "name": "stdout",
     "output_type": "stream",
     "text": [
      "Using matplotlib backend: Qt5Agg\n"
     ]
    }
   ],
   "source": [
    "import matplotlib.pyplot as plt\n",
    "import numpy as np\n",
    "%matplotlib\n",
    "plotFullMeals = pd.DataFrame(newDF[\"Allergic_rhinitis\"])\n",
    "boxplot = plotFullMeals.boxplot()\n"
   ]
  },
  {
   "cell_type": "code",
   "execution_count": 234,
   "id": "5f0e901c-6bc9-4310-9070-b458d56c1717",
   "metadata": {},
   "outputs": [
    {
     "name": "stdout",
     "output_type": "stream",
     "text": [
      "Using matplotlib backend: Qt5Agg\n"
     ]
    }
   ],
   "source": [
    "import matplotlib.pyplot as plt\n",
    "import numpy as np\n",
    "%matplotlib\n",
    "plotFullMeals = pd.DataFrame(newDF[\"Reflux_esophagitis\"])\n",
    "boxplot = plotFullMeals.boxplot()\n"
   ]
  },
  {
   "cell_type": "code",
   "execution_count": 235,
   "id": "a783ff37-b6e3-4599-a0bc-602411d799e8",
   "metadata": {},
   "outputs": [
    {
     "name": "stdout",
     "output_type": "stream",
     "text": [
      "Using matplotlib backend: Qt5Agg\n"
     ]
    }
   ],
   "source": [
    "import matplotlib.pyplot as plt\n",
    "import numpy as np\n",
    "%matplotlib\n",
    "plotFullMeals = pd.DataFrame(newDF[\"Asthma\"])\n",
    "boxplot = plotFullMeals.boxplot()\n"
   ]
  },
  {
   "cell_type": "code",
   "execution_count": 236,
   "id": "e7bbab1a-9588-42fe-b904-20addc075f31",
   "metadata": {},
   "outputs": [
    {
     "name": "stdout",
     "output_type": "stream",
     "text": [
      "Using matplotlib backend: Qt5Agg\n",
      "------------------------------Max Grubbs----------------------------------------\n",
      "Empty DataFrame\n",
      "Columns: [State, Zip, Lat, Lng, Population, Area, Timezone, Children, Age, Education, Employment, Household_Income, Marital, Gender, ReAdmis, VitD_levels, Doc_visits, Full_meals_eaten, VitD_supp, Soft_drink, Initial_admin, HighBlood, Stroke, Complication_risk, Overweight, Arthritis, Diabetes, Hyperlipidemia, BackPain, Anxiety, Allergic_rhinitis, Reflux_esophagitis, Asthma, Services, Initial_days, Daily_Average_Charges, Additional_charges, Timely_Admission, Timely_Treatment, Timely_Visits, Reliability, Options, Hours_Treatment, Courteous_Staff, Active_Listening]\n",
      "Index: []\n",
      "\n",
      "[0 rows x 45 columns]\n",
      "------------------------------Min Grubbs----------------------------------------\n",
      "Empty DataFrame\n",
      "Columns: [State, Zip, Lat, Lng, Population, Area, Timezone, Children, Age, Education, Employment, Household_Income, Marital, Gender, ReAdmis, VitD_levels, Doc_visits, Full_meals_eaten, VitD_supp, Soft_drink, Initial_admin, HighBlood, Stroke, Complication_risk, Overweight, Arthritis, Diabetes, Hyperlipidemia, BackPain, Anxiety, Allergic_rhinitis, Reflux_esophagitis, Asthma, Services, Initial_days, Daily_Average_Charges, Additional_charges, Timely_Admission, Timely_Treatment, Timely_Visits, Reliability, Options, Hours_Treatment, Courteous_Staff, Active_Listening]\n",
      "Index: []\n",
      "\n",
      "[0 rows x 45 columns]\n"
     ]
    },
    {
     "data": {
      "text/plain": [
       "1       2\n",
       "2       3\n",
       "3       2\n",
       "4       2\n",
       "5       1\n",
       "       ..\n",
       "9995    2\n",
       "9996    2\n",
       "9997    2\n",
       "9998    3\n",
       "9999    2\n",
       "Name: Complication_risk, Length: 9999, dtype: int64"
      ]
     },
     "execution_count": 236,
     "metadata": {},
     "output_type": "execute_result"
    }
   ],
   "source": [
    "import matplotlib.pyplot as plt\n",
    "import numpy as np\n",
    "%matplotlib\n",
    "plotFullMeals = pd.DataFrame(newDF[\"Complication_risk\"])\n",
    "boxplot = plotFullMeals.boxplot()\n",
    "from outliers import smirnov_grubbs as grubbs\n",
    "print(\"------------------------------Max Grubbs----------------------------------------\")\n",
    "print(newDF.iloc[grubbs.max_test_indices(newDF[\"Complication_risk\"], alpha= .05)])\n",
    "print(\"------------------------------Min Grubbs----------------------------------------\")\n",
    "print(newDF.iloc[grubbs.min_test_indices(newDF[\"Complication_risk\"], alpha= .05)])\n",
    "\n",
    "grubbs.test(newDF[\"Complication_risk\"], alpha= .05)"
   ]
  },
  {
   "cell_type": "code",
   "execution_count": 237,
   "id": "4dce90b4-450c-4e94-80d6-e203f9b8451f",
   "metadata": {},
   "outputs": [
    {
     "name": "stdout",
     "output_type": "stream",
     "text": [
      "Using matplotlib backend: Qt5Agg\n",
      "------------------------------Max Grubbs----------------------------------------\n",
      "Empty DataFrame\n",
      "Columns: [State, Zip, Lat, Lng, Population, Area, Timezone, Children, Age, Education, Employment, Household_Income, Marital, Gender, ReAdmis, VitD_levels, Doc_visits, Full_meals_eaten, VitD_supp, Soft_drink, Initial_admin, HighBlood, Stroke, Complication_risk, Overweight, Arthritis, Diabetes, Hyperlipidemia, BackPain, Anxiety, Allergic_rhinitis, Reflux_esophagitis, Asthma, Services, Initial_days, Daily_Average_Charges, Additional_charges, Timely_Admission, Timely_Treatment, Timely_Visits, Reliability, Options, Hours_Treatment, Courteous_Staff, Active_Listening]\n",
      "Index: []\n",
      "\n",
      "[0 rows x 45 columns]\n",
      "------------------------------Min Grubbs----------------------------------------\n",
      "Empty DataFrame\n",
      "Columns: [State, Zip, Lat, Lng, Population, Area, Timezone, Children, Age, Education, Employment, Household_Income, Marital, Gender, ReAdmis, VitD_levels, Doc_visits, Full_meals_eaten, VitD_supp, Soft_drink, Initial_admin, HighBlood, Stroke, Complication_risk, Overweight, Arthritis, Diabetes, Hyperlipidemia, BackPain, Anxiety, Allergic_rhinitis, Reflux_esophagitis, Asthma, Services, Initial_days, Daily_Average_Charges, Additional_charges, Timely_Admission, Timely_Treatment, Timely_Visits, Reliability, Options, Hours_Treatment, Courteous_Staff, Active_Listening]\n",
      "Index: []\n",
      "\n",
      "[0 rows x 45 columns]\n"
     ]
    },
    {
     "data": {
      "text/plain": [
       "1       10.585770\n",
       "2       15.129562\n",
       "3        4.772177\n",
       "4        1.714879\n",
       "5        1.254807\n",
       "          ...    \n",
       "9995    37.932116\n",
       "9996    51.561217\n",
       "9997    68.668237\n",
       "9998    34.428010\n",
       "9999    63.356903\n",
       "Name: Initial_days, Length: 9999, dtype: float64"
      ]
     },
     "execution_count": 237,
     "metadata": {},
     "output_type": "execute_result"
    }
   ],
   "source": [
    "import matplotlib.pyplot as plt\n",
    "import numpy as np\n",
    "%matplotlib\n",
    "plotFullMeals = pd.DataFrame(newDF[\"Initial_days\"])\n",
    "boxplot = plotFullMeals.boxplot()\n",
    "from outliers import smirnov_grubbs as grubbs\n",
    "print(\"------------------------------Max Grubbs----------------------------------------\")\n",
    "print(newDF.iloc[grubbs.max_test_indices(newDF[\"Initial_days\"], alpha= .05)])\n",
    "print(\"------------------------------Min Grubbs----------------------------------------\")\n",
    "print(newDF.iloc[grubbs.min_test_indices(newDF[\"Initial_days\"], alpha= .05)])\n",
    "\n",
    "grubbs.test(newDF[\"Initial_days\"], alpha= .05)"
   ]
  },
  {
   "cell_type": "code",
   "execution_count": 238,
   "id": "3a8009f2-eccd-4b03-947d-78af78d52acb",
   "metadata": {},
   "outputs": [
    {
     "name": "stdout",
     "output_type": "stream",
     "text": [
      "Using matplotlib backend: Qt5Agg\n",
      "------------------------------Max Grubbs----------------------------------------\n",
      "Empty DataFrame\n",
      "Columns: [State, Zip, Lat, Lng, Population, Area, Timezone, Children, Age, Education, Employment, Household_Income, Marital, Gender, ReAdmis, VitD_levels, Doc_visits, Full_meals_eaten, VitD_supp, Soft_drink, Initial_admin, HighBlood, Stroke, Complication_risk, Overweight, Arthritis, Diabetes, Hyperlipidemia, BackPain, Anxiety, Allergic_rhinitis, Reflux_esophagitis, Asthma, Services, Initial_days, Daily_Average_Charges, Additional_charges, Timely_Admission, Timely_Treatment, Timely_Visits, Reliability, Options, Hours_Treatment, Courteous_Staff, Active_Listening]\n",
      "Index: []\n",
      "\n",
      "[0 rows x 45 columns]\n",
      "------------------------------Mix Grubbs----------------------------------------\n",
      "Empty DataFrame\n",
      "Columns: [State, Zip, Lat, Lng, Population, Area, Timezone, Children, Age, Education, Employment, Household_Income, Marital, Gender, ReAdmis, VitD_levels, Doc_visits, Full_meals_eaten, VitD_supp, Soft_drink, Initial_admin, HighBlood, Stroke, Complication_risk, Overweight, Arthritis, Diabetes, Hyperlipidemia, BackPain, Anxiety, Allergic_rhinitis, Reflux_esophagitis, Asthma, Services, Initial_days, Daily_Average_Charges, Additional_charges, Timely_Admission, Timely_Treatment, Timely_Visits, Reliability, Options, Hours_Treatment, Courteous_Staff, Active_Listening]\n",
      "Index: []\n",
      "\n",
      "[0 rows x 45 columns]\n"
     ]
    },
    {
     "data": {
      "text/plain": [
       "1       3191.048774\n",
       "2       4214.905346\n",
       "3       2177.586768\n",
       "4       2465.118965\n",
       "5       1885.655137\n",
       "           ...     \n",
       "9995    5857.563763\n",
       "9996    6651.241294\n",
       "9997    7851.522660\n",
       "9998    7725.953391\n",
       "9999    8462.831883\n",
       "Name: Daily_Average_Charges, Length: 9999, dtype: float64"
      ]
     },
     "execution_count": 238,
     "metadata": {},
     "output_type": "execute_result"
    }
   ],
   "source": [
    "import matplotlib.pyplot as plt\n",
    "import numpy as np\n",
    "%matplotlib\n",
    "plotTotalCharge = pd.DataFrame(newDF[\"Daily_Average_Charges\"])\n",
    "boxplot = plotTotalCharge.boxplot()\n",
    "from outliers import smirnov_grubbs as grubbs\n",
    "print(\"------------------------------Max Grubbs----------------------------------------\")\n",
    "print(newDF.iloc[grubbs.max_test_indices(newDF[\"Daily_Average_Charges\"], alpha= .05)])\n",
    "print(\"------------------------------Mix Grubbs----------------------------------------\")\n",
    "print(newDF.iloc[grubbs.min_test_indices(newDF[\"Daily_Average_Charges\"], alpha= .05)])\n",
    "\n",
    "grubbs.test(newDF[\"Daily_Average_Charges\"], alpha= .05)"
   ]
  },
  {
   "cell_type": "code",
   "execution_count": 239,
   "id": "bb85e6c1-8e4e-4347-ad67-4476db3c4f67",
   "metadata": {},
   "outputs": [
    {
     "name": "stdout",
     "output_type": "stream",
     "text": [
      "Using matplotlib backend: Qt5Agg\n",
      "------------------------------Max Grubbs----------------------------------------\n",
      "Empty DataFrame\n",
      "Columns: [State, Zip, Lat, Lng, Population, Area, Timezone, Children, Age, Education, Employment, Household_Income, Marital, Gender, ReAdmis, VitD_levels, Doc_visits, Full_meals_eaten, VitD_supp, Soft_drink, Initial_admin, HighBlood, Stroke, Complication_risk, Overweight, Arthritis, Diabetes, Hyperlipidemia, BackPain, Anxiety, Allergic_rhinitis, Reflux_esophagitis, Asthma, Services, Initial_days, Daily_Average_Charges, Additional_charges, Timely_Admission, Timely_Treatment, Timely_Visits, Reliability, Options, Hours_Treatment, Courteous_Staff, Active_Listening]\n",
      "Index: []\n",
      "\n",
      "[0 rows x 45 columns]\n",
      "------------------------------Mix Grubbs----------------------------------------\n",
      "Empty DataFrame\n",
      "Columns: [State, Zip, Lat, Lng, Population, Area, Timezone, Children, Age, Education, Employment, Household_Income, Marital, Gender, ReAdmis, VitD_levels, Doc_visits, Full_meals_eaten, VitD_supp, Soft_drink, Initial_admin, HighBlood, Stroke, Complication_risk, Overweight, Arthritis, Diabetes, Hyperlipidemia, BackPain, Anxiety, Allergic_rhinitis, Reflux_esophagitis, Asthma, Services, Initial_days, Daily_Average_Charges, Additional_charges, Timely_Admission, Timely_Treatment, Timely_Visits, Reliability, Options, Hours_Treatment, Courteous_Staff, Active_Listening]\n",
      "Index: []\n",
      "\n",
      "[0 rows x 45 columns]\n"
     ]
    },
    {
     "data": {
      "text/plain": [
       "1       17939.403420\n",
       "2       17612.998120\n",
       "3       17505.192460\n",
       "4       12993.437350\n",
       "5        3716.525786\n",
       "            ...     \n",
       "9995    12045.862390\n",
       "9996     8927.642189\n",
       "9997    28507.147340\n",
       "9998    15281.214660\n",
       "9999     7781.678412\n",
       "Name: Additional_charges, Length: 9999, dtype: float64"
      ]
     },
     "execution_count": 239,
     "metadata": {},
     "output_type": "execute_result"
    }
   ],
   "source": [
    "import matplotlib.pyplot as plt\n",
    "import numpy as np\n",
    "%matplotlib\n",
    "plotReAdmis = pd.DataFrame(newDF[\"Additional_charges\"])\n",
    "boxplot = plotReAdmis.boxplot()\n",
    "from outliers import smirnov_grubbs as grubbs\n",
    "print(\"------------------------------Max Grubbs----------------------------------------\")\n",
    "print(newDF.iloc[grubbs.max_test_indices(newDF[\"Additional_charges\"], alpha= .05)])\n",
    "print(\"------------------------------Mix Grubbs----------------------------------------\")\n",
    "print(newDF.iloc[grubbs.min_test_indices(newDF[\"Additional_charges\"], alpha= .05)])\n",
    "\n",
    "grubbs.test(newDF[\"Additional_charges\"], alpha= .05)"
   ]
  },
  {
   "cell_type": "code",
   "execution_count": 240,
   "id": "58fa3e93-8f22-4406-9e71-4e3dde4a2931",
   "metadata": {},
   "outputs": [
    {
     "name": "stdout",
     "output_type": "stream",
     "text": [
      "1       0.000212\n",
      "2       0.000208\n",
      "3       0.000207\n",
      "4       0.000154\n",
      "5       0.000044\n",
      "          ...   \n",
      "9995    0.000142\n",
      "9996    0.000105\n",
      "9997    0.000337\n",
      "9998    0.000181\n",
      "9999    0.000092\n",
      "Name: Additional_charges, Length: 9999, dtype: float64\n"
     ]
    }
   ],
   "source": [
    "print(newDF[\"Additional_charges\"]/newDF[\"Additional_charges\"].mean()/newDF[\"Additional_charges\"].std())"
   ]
  },
  {
   "cell_type": "code",
   "execution_count": 241,
   "id": "9db60da1-3151-4c9f-92b7-6d9b4ce03a68",
   "metadata": {},
   "outputs": [
    {
     "name": "stdout",
     "output_type": "stream",
     "text": [
      "Using matplotlib backend: Qt5Agg\n",
      "------------------------------Max Grubbs----------------------------------------\n",
      "Empty DataFrame\n",
      "Columns: [State, Zip, Lat, Lng, Population, Area, Timezone, Children, Age, Education, Employment, Household_Income, Marital, Gender, ReAdmis, VitD_levels, Doc_visits, Full_meals_eaten, VitD_supp, Soft_drink, Initial_admin, HighBlood, Stroke, Complication_risk, Overweight, Arthritis, Diabetes, Hyperlipidemia, BackPain, Anxiety, Allergic_rhinitis, Reflux_esophagitis, Asthma, Services, Initial_days, Daily_Average_Charges, Additional_charges, Timely_Admission, Timely_Treatment, Timely_Visits, Reliability, Options, Hours_Treatment, Courteous_Staff, Active_Listening]\n",
      "Index: []\n",
      "\n",
      "[0 rows x 45 columns]\n",
      "------------------------------Mix Grubbs----------------------------------------\n",
      "Empty DataFrame\n",
      "Columns: [State, Zip, Lat, Lng, Population, Area, Timezone, Children, Age, Education, Employment, Household_Income, Marital, Gender, ReAdmis, VitD_levels, Doc_visits, Full_meals_eaten, VitD_supp, Soft_drink, Initial_admin, HighBlood, Stroke, Complication_risk, Overweight, Arthritis, Diabetes, Hyperlipidemia, BackPain, Anxiety, Allergic_rhinitis, Reflux_esophagitis, Asthma, Services, Initial_days, Daily_Average_Charges, Additional_charges, Timely_Admission, Timely_Treatment, Timely_Visits, Reliability, Options, Hours_Treatment, Courteous_Staff, Active_Listening]\n",
      "Index: []\n",
      "\n",
      "[0 rows x 45 columns]\n"
     ]
    },
    {
     "data": {
      "text/plain": [
       "1       3\n",
       "2       3\n",
       "3       2\n",
       "4       3\n",
       "5       2\n",
       "       ..\n",
       "9995    2\n",
       "9996    3\n",
       "9997    3\n",
       "9998    3\n",
       "9999    5\n",
       "Name: Timely_Admission, Length: 9999, dtype: int64"
      ]
     },
     "execution_count": 241,
     "metadata": {},
     "output_type": "execute_result"
    }
   ],
   "source": [
    "import matplotlib.pyplot as plt\n",
    "import numpy as np\n",
    "%matplotlib\n",
    "plotReAdmis = pd.DataFrame(newDF[\"Timely_Admission\"])\n",
    "boxplot = plotReAdmis.boxplot()\n",
    "from outliers import smirnov_grubbs as grubbs\n",
    "print(\"------------------------------Max Grubbs----------------------------------------\")\n",
    "print(newDF.iloc[grubbs.max_test_indices(newDF[\"Timely_Admission\"], alpha= .05)])\n",
    "print(\"------------------------------Mix Grubbs----------------------------------------\")\n",
    "print(newDF.iloc[grubbs.min_test_indices(newDF[\"Timely_Admission\"], alpha= .05)])\n",
    "\n",
    "grubbs.test(newDF[\"Timely_Admission\"], alpha= .05)"
   ]
  },
  {
   "cell_type": "code",
   "execution_count": 242,
   "id": "70495588-ffbc-40ec-b061-6b9855c7a4e3",
   "metadata": {},
   "outputs": [
    {
     "name": "stdout",
     "output_type": "stream",
     "text": [
      "Using matplotlib backend: Qt5Agg\n",
      "------------------------------Max Grubbs----------------------------------------\n",
      "Empty DataFrame\n",
      "Columns: [State, Zip, Lat, Lng, Population, Area, Timezone, Children, Age, Education, Employment, Household_Income, Marital, Gender, ReAdmis, VitD_levels, Doc_visits, Full_meals_eaten, VitD_supp, Soft_drink, Initial_admin, HighBlood, Stroke, Complication_risk, Overweight, Arthritis, Diabetes, Hyperlipidemia, BackPain, Anxiety, Allergic_rhinitis, Reflux_esophagitis, Asthma, Services, Initial_days, Daily_Average_Charges, Additional_charges, Timely_Admission, Timely_Treatment, Timely_Visits, Reliability, Options, Hours_Treatment, Courteous_Staff, Active_Listening]\n",
      "Index: []\n",
      "\n",
      "[0 rows x 45 columns]\n",
      "------------------------------Mix Grubbs----------------------------------------\n",
      "Empty DataFrame\n",
      "Columns: [State, Zip, Lat, Lng, Population, Area, Timezone, Children, Age, Education, Employment, Household_Income, Marital, Gender, ReAdmis, VitD_levels, Doc_visits, Full_meals_eaten, VitD_supp, Soft_drink, Initial_admin, HighBlood, Stroke, Complication_risk, Overweight, Arthritis, Diabetes, Hyperlipidemia, BackPain, Anxiety, Allergic_rhinitis, Reflux_esophagitis, Asthma, Services, Initial_days, Daily_Average_Charges, Additional_charges, Timely_Admission, Timely_Treatment, Timely_Visits, Reliability, Options, Hours_Treatment, Courteous_Staff, Active_Listening]\n",
      "Index: []\n",
      "\n",
      "[0 rows x 45 columns]\n"
     ]
    },
    {
     "data": {
      "text/plain": [
       "1       3\n",
       "2       4\n",
       "3       4\n",
       "4       5\n",
       "5       1\n",
       "       ..\n",
       "9995    3\n",
       "9996    2\n",
       "9997    3\n",
       "9998    3\n",
       "9999    5\n",
       "Name: Timely_Treatment, Length: 9999, dtype: int64"
      ]
     },
     "execution_count": 242,
     "metadata": {},
     "output_type": "execute_result"
    }
   ],
   "source": [
    "import matplotlib.pyplot as plt\n",
    "import numpy as np\n",
    "%matplotlib\n",
    "plotReAdmis = pd.DataFrame(newDF[\"Timely_Treatment\"])\n",
    "boxplot = plotReAdmis.boxplot()\n",
    "from outliers import smirnov_grubbs as grubbs\n",
    "print(\"------------------------------Max Grubbs----------------------------------------\")\n",
    "print(newDF.iloc[grubbs.max_test_indices(newDF[\"Timely_Treatment\"], alpha= .05)])\n",
    "print(\"------------------------------Mix Grubbs----------------------------------------\")\n",
    "print(newDF.iloc[grubbs.min_test_indices(newDF[\"Timely_Treatment\"], alpha= .05)])\n",
    "\n",
    "grubbs.test(newDF[\"Timely_Treatment\"], alpha= .05)"
   ]
  },
  {
   "cell_type": "code",
   "execution_count": 243,
   "id": "ea2edf0f-a7a9-44f0-a06c-168556bb7a28",
   "metadata": {},
   "outputs": [
    {
     "name": "stdout",
     "output_type": "stream",
     "text": [
      "Using matplotlib backend: Qt5Agg\n",
      "------------------------------Max Grubbs----------------------------------------\n",
      "Empty DataFrame\n",
      "Columns: [State, Zip, Lat, Lng, Population, Area, Timezone, Children, Age, Education, Employment, Household_Income, Marital, Gender, ReAdmis, VitD_levels, Doc_visits, Full_meals_eaten, VitD_supp, Soft_drink, Initial_admin, HighBlood, Stroke, Complication_risk, Overweight, Arthritis, Diabetes, Hyperlipidemia, BackPain, Anxiety, Allergic_rhinitis, Reflux_esophagitis, Asthma, Services, Initial_days, Daily_Average_Charges, Additional_charges, Timely_Admission, Timely_Treatment, Timely_Visits, Reliability, Options, Hours_Treatment, Courteous_Staff, Active_Listening]\n",
      "Index: []\n",
      "\n",
      "[0 rows x 45 columns]\n",
      "------------------------------Mix Grubbs----------------------------------------\n",
      "Empty DataFrame\n",
      "Columns: [State, Zip, Lat, Lng, Population, Area, Timezone, Children, Age, Education, Employment, Household_Income, Marital, Gender, ReAdmis, VitD_levels, Doc_visits, Full_meals_eaten, VitD_supp, Soft_drink, Initial_admin, HighBlood, Stroke, Complication_risk, Overweight, Arthritis, Diabetes, Hyperlipidemia, BackPain, Anxiety, Allergic_rhinitis, Reflux_esophagitis, Asthma, Services, Initial_days, Daily_Average_Charges, Additional_charges, Timely_Admission, Timely_Treatment, Timely_Visits, Reliability, Options, Hours_Treatment, Courteous_Staff, Active_Listening]\n",
      "Index: []\n",
      "\n",
      "[0 rows x 45 columns]\n"
     ]
    },
    {
     "data": {
      "text/plain": [
       "1       2\n",
       "2       3\n",
       "3       4\n",
       "4       5\n",
       "5       3\n",
       "       ..\n",
       "9995    2\n",
       "9996    2\n",
       "9997    4\n",
       "9998    3\n",
       "9999    3\n",
       "Name: Timely_Visits, Length: 9999, dtype: int64"
      ]
     },
     "execution_count": 243,
     "metadata": {},
     "output_type": "execute_result"
    }
   ],
   "source": [
    "import matplotlib.pyplot as plt\n",
    "import numpy as np\n",
    "%matplotlib\n",
    "plotReAdmis = pd.DataFrame(newDF[\"Timely_Visits\"])\n",
    "boxplot = plotReAdmis.boxplot()\n",
    "from outliers import smirnov_grubbs as grubbs\n",
    "print(\"------------------------------Max Grubbs----------------------------------------\")\n",
    "print(newDF.iloc[grubbs.max_test_indices(newDF[\"Timely_Visits\"], alpha= .05)])\n",
    "print(\"------------------------------Mix Grubbs----------------------------------------\")\n",
    "print(newDF.iloc[grubbs.min_test_indices(newDF[\"Timely_Visits\"], alpha= .05)])\n",
    "\n",
    "grubbs.test(newDF[\"Timely_Visits\"], alpha= .05)"
   ]
  },
  {
   "cell_type": "code",
   "execution_count": 244,
   "id": "ed28e4da-b0d0-42e1-a02c-7cfa2bf1db4b",
   "metadata": {},
   "outputs": [
    {
     "name": "stdout",
     "output_type": "stream",
     "text": [
      "Using matplotlib backend: Qt5Agg\n",
      "------------------------------Max Grubbs----------------------------------------\n",
      "Empty DataFrame\n",
      "Columns: [State, Zip, Lat, Lng, Population, Area, Timezone, Children, Age, Education, Employment, Household_Income, Marital, Gender, ReAdmis, VitD_levels, Doc_visits, Full_meals_eaten, VitD_supp, Soft_drink, Initial_admin, HighBlood, Stroke, Complication_risk, Overweight, Arthritis, Diabetes, Hyperlipidemia, BackPain, Anxiety, Allergic_rhinitis, Reflux_esophagitis, Asthma, Services, Initial_days, Daily_Average_Charges, Additional_charges, Timely_Admission, Timely_Treatment, Timely_Visits, Reliability, Options, Hours_Treatment, Courteous_Staff, Active_Listening]\n",
      "Index: []\n",
      "\n",
      "[0 rows x 45 columns]\n",
      "------------------------------Mix Grubbs----------------------------------------\n",
      "Empty DataFrame\n",
      "Columns: [State, Zip, Lat, Lng, Population, Area, Timezone, Children, Age, Education, Employment, Household_Income, Marital, Gender, ReAdmis, VitD_levels, Doc_visits, Full_meals_eaten, VitD_supp, Soft_drink, Initial_admin, HighBlood, Stroke, Complication_risk, Overweight, Arthritis, Diabetes, Hyperlipidemia, BackPain, Anxiety, Allergic_rhinitis, Reflux_esophagitis, Asthma, Services, Initial_days, Daily_Average_Charges, Additional_charges, Timely_Admission, Timely_Treatment, Timely_Visits, Reliability, Options, Hours_Treatment, Courteous_Staff, Active_Listening]\n",
      "Index: []\n",
      "\n",
      "[0 rows x 45 columns]\n"
     ]
    },
    {
     "data": {
      "text/plain": [
       "1       2\n",
       "2       4\n",
       "3       4\n",
       "4       3\n",
       "5       3\n",
       "       ..\n",
       "9995    1\n",
       "9996    3\n",
       "9997    2\n",
       "9998    4\n",
       "9999    4\n",
       "Name: Reliability, Length: 9999, dtype: int64"
      ]
     },
     "execution_count": 244,
     "metadata": {},
     "output_type": "execute_result"
    }
   ],
   "source": [
    "import matplotlib.pyplot as plt\n",
    "import numpy as np\n",
    "%matplotlib\n",
    "plotReAdmis = pd.DataFrame(newDF[\"Reliability\"])\n",
    "boxplot = plotReAdmis.boxplot()\n",
    "from outliers import smirnov_grubbs as grubbs\n",
    "print(\"------------------------------Max Grubbs----------------------------------------\")\n",
    "print(newDF.iloc[grubbs.max_test_indices(newDF[\"Reliability\"], alpha= .05)])\n",
    "print(\"------------------------------Mix Grubbs----------------------------------------\")\n",
    "print(newDF.iloc[grubbs.min_test_indices(newDF[\"Reliability\"], alpha= .05)])\n",
    "\n",
    "grubbs.test(newDF[\"Reliability\"], alpha= .05)"
   ]
  },
  {
   "cell_type": "code",
   "execution_count": 245,
   "id": "752f805b-7c82-41fd-9d3c-95cefdb53df6",
   "metadata": {},
   "outputs": [
    {
     "name": "stdout",
     "output_type": "stream",
     "text": [
      "Using matplotlib backend: Qt5Agg\n",
      "------------------------------Max Grubbs----------------------------------------\n",
      "Empty DataFrame\n",
      "Columns: [State, Zip, Lat, Lng, Population, Area, Timezone, Children, Age, Education, Employment, Household_Income, Marital, Gender, ReAdmis, VitD_levels, Doc_visits, Full_meals_eaten, VitD_supp, Soft_drink, Initial_admin, HighBlood, Stroke, Complication_risk, Overweight, Arthritis, Diabetes, Hyperlipidemia, BackPain, Anxiety, Allergic_rhinitis, Reflux_esophagitis, Asthma, Services, Initial_days, Daily_Average_Charges, Additional_charges, Timely_Admission, Timely_Treatment, Timely_Visits, Reliability, Options, Hours_Treatment, Courteous_Staff, Active_Listening]\n",
      "Index: []\n",
      "\n",
      "[0 rows x 45 columns]\n",
      "------------------------------Mix Grubbs----------------------------------------\n",
      "Empty DataFrame\n",
      "Columns: [State, Zip, Lat, Lng, Population, Area, Timezone, Children, Age, Education, Employment, Household_Income, Marital, Gender, ReAdmis, VitD_levels, Doc_visits, Full_meals_eaten, VitD_supp, Soft_drink, Initial_admin, HighBlood, Stroke, Complication_risk, Overweight, Arthritis, Diabetes, Hyperlipidemia, BackPain, Anxiety, Allergic_rhinitis, Reflux_esophagitis, Asthma, Services, Initial_days, Daily_Average_Charges, Additional_charges, Timely_Admission, Timely_Treatment, Timely_Visits, Reliability, Options, Hours_Treatment, Courteous_Staff, Active_Listening]\n",
      "Index: []\n",
      "\n",
      "[0 rows x 45 columns]\n"
     ]
    },
    {
     "data": {
      "text/plain": [
       "1       4\n",
       "2       4\n",
       "3       3\n",
       "4       4\n",
       "5       5\n",
       "       ..\n",
       "9995    5\n",
       "9996    4\n",
       "9997    5\n",
       "9998    4\n",
       "9999    4\n",
       "Name: Options, Length: 9999, dtype: int64"
      ]
     },
     "execution_count": 245,
     "metadata": {},
     "output_type": "execute_result"
    }
   ],
   "source": [
    "import matplotlib.pyplot as plt\n",
    "import numpy as np\n",
    "%matplotlib\n",
    "plotReAdmis = pd.DataFrame(newDF[\"Options\"])\n",
    "boxplot = plotReAdmis.boxplot()\n",
    "from outliers import smirnov_grubbs as grubbs\n",
    "print(\"------------------------------Max Grubbs----------------------------------------\")\n",
    "print(newDF.iloc[grubbs.max_test_indices(newDF[\"Options\"], alpha= .05)])\n",
    "print(\"------------------------------Mix Grubbs----------------------------------------\")\n",
    "print(newDF.iloc[grubbs.min_test_indices(newDF[\"Options\"], alpha= .05)])\n",
    "\n",
    "grubbs.test(newDF[\"Options\"], alpha= .05)"
   ]
  },
  {
   "cell_type": "code",
   "execution_count": 246,
   "id": "a0ea75aa-eeba-4251-b56c-6fe1d17f0ea6",
   "metadata": {},
   "outputs": [
    {
     "name": "stdout",
     "output_type": "stream",
     "text": [
      "Using matplotlib backend: Qt5Agg\n",
      "------------------------------Max Grubbs----------------------------------------\n",
      "Empty DataFrame\n",
      "Columns: [State, Zip, Lat, Lng, Population, Area, Timezone, Children, Age, Education, Employment, Household_Income, Marital, Gender, ReAdmis, VitD_levels, Doc_visits, Full_meals_eaten, VitD_supp, Soft_drink, Initial_admin, HighBlood, Stroke, Complication_risk, Overweight, Arthritis, Diabetes, Hyperlipidemia, BackPain, Anxiety, Allergic_rhinitis, Reflux_esophagitis, Asthma, Services, Initial_days, Daily_Average_Charges, Additional_charges, Timely_Admission, Timely_Treatment, Timely_Visits, Reliability, Options, Hours_Treatment, Courteous_Staff, Active_Listening]\n",
      "Index: []\n",
      "\n",
      "[0 rows x 45 columns]\n",
      "------------------------------Mix Grubbs----------------------------------------\n",
      "Empty DataFrame\n",
      "Columns: [State, Zip, Lat, Lng, Population, Area, Timezone, Children, Age, Education, Employment, Household_Income, Marital, Gender, ReAdmis, VitD_levels, Doc_visits, Full_meals_eaten, VitD_supp, Soft_drink, Initial_admin, HighBlood, Stroke, Complication_risk, Overweight, Arthritis, Diabetes, Hyperlipidemia, BackPain, Anxiety, Allergic_rhinitis, Reflux_esophagitis, Asthma, Services, Initial_days, Daily_Average_Charges, Additional_charges, Timely_Admission, Timely_Treatment, Timely_Visits, Reliability, Options, Hours_Treatment, Courteous_Staff, Active_Listening]\n",
      "Index: []\n",
      "\n",
      "[0 rows x 45 columns]\n"
     ]
    },
    {
     "data": {
      "text/plain": [
       "1       3\n",
       "2       4\n",
       "3       4\n",
       "4       5\n",
       "5       3\n",
       "       ..\n",
       "9995    3\n",
       "9996    3\n",
       "9997    3\n",
       "9998    2\n",
       "9999    3\n",
       "Name: Hours_Treatment, Length: 9999, dtype: int64"
      ]
     },
     "execution_count": 246,
     "metadata": {},
     "output_type": "execute_result"
    }
   ],
   "source": [
    "import matplotlib.pyplot as plt\n",
    "import numpy as np\n",
    "%matplotlib\n",
    "plotReAdmis = pd.DataFrame(newDF[\"Hours_Treatment\"])\n",
    "boxplot = plotReAdmis.boxplot()\n",
    "from outliers import smirnov_grubbs as grubbs\n",
    "print(\"------------------------------Max Grubbs----------------------------------------\")\n",
    "print(newDF.iloc[grubbs.max_test_indices(newDF[\"Hours_Treatment\"], alpha= .05)])\n",
    "print(\"------------------------------Mix Grubbs----------------------------------------\")\n",
    "print(newDF.iloc[grubbs.min_test_indices(newDF[\"Hours_Treatment\"], alpha= .05)])\n",
    "\n",
    "grubbs.test(newDF[\"Hours_Treatment\"], alpha= .05)"
   ]
  },
  {
   "cell_type": "code",
   "execution_count": 247,
   "id": "187645ea-7c57-41a8-a619-9621dc5e87b6",
   "metadata": {},
   "outputs": [
    {
     "name": "stdout",
     "output_type": "stream",
     "text": [
      "Using matplotlib backend: Qt5Agg\n",
      "------------------------------Max Grubbs----------------------------------------\n",
      "Empty DataFrame\n",
      "Columns: [State, Zip, Lat, Lng, Population, Area, Timezone, Children, Age, Education, Employment, Household_Income, Marital, Gender, ReAdmis, VitD_levels, Doc_visits, Full_meals_eaten, VitD_supp, Soft_drink, Initial_admin, HighBlood, Stroke, Complication_risk, Overweight, Arthritis, Diabetes, Hyperlipidemia, BackPain, Anxiety, Allergic_rhinitis, Reflux_esophagitis, Asthma, Services, Initial_days, Daily_Average_Charges, Additional_charges, Timely_Admission, Timely_Treatment, Timely_Visits, Reliability, Options, Hours_Treatment, Courteous_Staff, Active_Listening]\n",
      "Index: []\n",
      "\n",
      "[0 rows x 45 columns]\n",
      "------------------------------Mix Grubbs----------------------------------------\n",
      "Empty DataFrame\n",
      "Columns: [State, Zip, Lat, Lng, Population, Area, Timezone, Children, Age, Education, Employment, Household_Income, Marital, Gender, ReAdmis, VitD_levels, Doc_visits, Full_meals_eaten, VitD_supp, Soft_drink, Initial_admin, HighBlood, Stroke, Complication_risk, Overweight, Arthritis, Diabetes, Hyperlipidemia, BackPain, Anxiety, Allergic_rhinitis, Reflux_esophagitis, Asthma, Services, Initial_days, Daily_Average_Charges, Additional_charges, Timely_Admission, Timely_Treatment, Timely_Visits, Reliability, Options, Hours_Treatment, Courteous_Staff, Active_Listening]\n",
      "Index: []\n",
      "\n",
      "[0 rows x 45 columns]\n"
     ]
    },
    {
     "data": {
      "text/plain": [
       "1       3\n",
       "2       3\n",
       "3       3\n",
       "4       5\n",
       "5       4\n",
       "       ..\n",
       "9995    4\n",
       "9996    4\n",
       "9997    4\n",
       "9998    3\n",
       "9999    4\n",
       "Name: Courteous_Staff, Length: 9999, dtype: int64"
      ]
     },
     "execution_count": 247,
     "metadata": {},
     "output_type": "execute_result"
    }
   ],
   "source": [
    "import matplotlib.pyplot as plt\n",
    "import numpy as np\n",
    "%matplotlib\n",
    "plotReAdmis = pd.DataFrame(newDF[\"Courteous_Staff\"])\n",
    "boxplot = plotReAdmis.boxplot()\n",
    "from outliers import smirnov_grubbs as grubbs\n",
    "print(\"------------------------------Max Grubbs----------------------------------------\")\n",
    "print(newDF.iloc[grubbs.max_test_indices(newDF[\"Courteous_Staff\"], alpha= .05)])\n",
    "print(\"------------------------------Mix Grubbs----------------------------------------\")\n",
    "print(newDF.iloc[grubbs.min_test_indices(newDF[\"Courteous_Staff\"], alpha= .05)])\n",
    "grubbs.test(newDF[\"Courteous_Staff\"], alpha= .05)\n"
   ]
  },
  {
   "cell_type": "code",
   "execution_count": 248,
   "id": "19812768-b5a3-478f-9ff2-e2563e1543c9",
   "metadata": {},
   "outputs": [
    {
     "name": "stdout",
     "output_type": "stream",
     "text": [
      "Using matplotlib backend: Qt5Agg\n",
      "------------------------------Max Grubbs----------------------------------------\n",
      "Empty DataFrame\n",
      "Columns: [State, Zip, Lat, Lng, Population, Area, Timezone, Children, Age, Education, Employment, Household_Income, Marital, Gender, ReAdmis, VitD_levels, Doc_visits, Full_meals_eaten, VitD_supp, Soft_drink, Initial_admin, HighBlood, Stroke, Complication_risk, Overweight, Arthritis, Diabetes, Hyperlipidemia, BackPain, Anxiety, Allergic_rhinitis, Reflux_esophagitis, Asthma, Services, Initial_days, Daily_Average_Charges, Additional_charges, Timely_Admission, Timely_Treatment, Timely_Visits, Reliability, Options, Hours_Treatment, Courteous_Staff, Active_Listening]\n",
      "Index: []\n",
      "\n",
      "[0 rows x 45 columns]\n",
      "------------------------------Mix Grubbs----------------------------------------\n",
      "Empty DataFrame\n",
      "Columns: [State, Zip, Lat, Lng, Population, Area, Timezone, Children, Age, Education, Employment, Household_Income, Marital, Gender, ReAdmis, VitD_levels, Doc_visits, Full_meals_eaten, VitD_supp, Soft_drink, Initial_admin, HighBlood, Stroke, Complication_risk, Overweight, Arthritis, Diabetes, Hyperlipidemia, BackPain, Anxiety, Allergic_rhinitis, Reflux_esophagitis, Asthma, Services, Initial_days, Daily_Average_Charges, Additional_charges, Timely_Admission, Timely_Treatment, Timely_Visits, Reliability, Options, Hours_Treatment, Courteous_Staff, Active_Listening]\n",
      "Index: []\n",
      "\n",
      "[0 rows x 45 columns]\n"
     ]
    },
    {
     "data": {
      "text/plain": [
       "1       4\n",
       "2       3\n",
       "3       3\n",
       "4       5\n",
       "5       3\n",
       "       ..\n",
       "9995    2\n",
       "9996    2\n",
       "9997    4\n",
       "9998    2\n",
       "9999    3\n",
       "Name: Active_Listening, Length: 9999, dtype: int64"
      ]
     },
     "execution_count": 248,
     "metadata": {},
     "output_type": "execute_result"
    }
   ],
   "source": [
    "import matplotlib.pyplot as plt\n",
    "import numpy as np\n",
    "%matplotlib\n",
    "plotReAdmis = pd.DataFrame(newDF[\"Active_Listening\"])\n",
    "boxplot = plotReAdmis.boxplot()\n",
    "from outliers import smirnov_grubbs as grubbs\n",
    "print(\"------------------------------Max Grubbs----------------------------------------\")\n",
    "print(newDF.iloc[grubbs.max_test_indices(newDF[\"Active_Listening\"], alpha= .05)])\n",
    "print(\"------------------------------Mix Grubbs----------------------------------------\")\n",
    "print(newDF.iloc[grubbs.min_test_indices(newDF[\"Active_Listening\"], alpha= .05)])\n",
    "grubbs.test(newDF[\"Active_Listening\"], alpha= .05)"
   ]
  },
  {
   "cell_type": "code",
   "execution_count": 249,
   "id": "76ce96b1-6d6c-4ebf-876c-c7f34a8ce2dd",
   "metadata": {},
   "outputs": [
    {
     "name": "stdout",
     "output_type": "stream",
     "text": [
      "[]\n",
      "State                    float64\n",
      "Zip                      float64\n",
      "Lat                      float64\n",
      "Lng                      float64\n",
      "Population               float64\n",
      "Area                     float64\n",
      "Timezone                 float64\n",
      "Children                 float64\n",
      "Age                      float64\n",
      "Education                float64\n",
      "Employment               float64\n",
      "Household_Income         float64\n",
      "Marital                  float64\n",
      "Gender                   float64\n",
      "ReAdmis                  float64\n",
      "VitD_levels              float64\n",
      "Doc_visits               float64\n",
      "Full_meals_eaten         float64\n",
      "VitD_supp                float64\n",
      "Soft_drink               float64\n",
      "Initial_admin            float64\n",
      "HighBlood                float64\n",
      "Stroke                   float64\n",
      "Complication_risk        float64\n",
      "Overweight               float64\n",
      "Arthritis                float64\n",
      "Diabetes                 float64\n",
      "Hyperlipidemia           float64\n",
      "BackPain                 float64\n",
      "Anxiety                  float64\n",
      "Allergic_rhinitis        float64\n",
      "Reflux_esophagitis       float64\n",
      "Asthma                   float64\n",
      "Services                 float64\n",
      "Initial_days             float64\n",
      "Daily_Average_Charges    float64\n",
      "Additional_charges       float64\n",
      "Timely_Admission         float64\n",
      "Timely_Treatment         float64\n",
      "Timely_Visits            float64\n",
      "Reliability              float64\n",
      "Options                  float64\n",
      "Hours_Treatment          float64\n",
      "Courteous_Staff          float64\n",
      "Active_Listening         float64\n",
      "dtype: object\n"
     ]
    }
   ],
   "source": [
    "newDF_normalized = (newDF-newDF.mean())/newDF.std()\n",
    "nan_values = newDF_normalized.isnull()\n",
    "nan_columns = nan_values.any()\n",
    "columns_with_nan = newDF_normalized.columns[nan_columns].tolist()\n",
    "print(columns_with_nan)\n",
    "print(newDF_normalized.dtypes)"
   ]
  },
  {
   "cell_type": "code",
   "execution_count": 250,
   "id": "87888b4c-160e-4eea-aa78-db310e2e88e2",
   "metadata": {},
   "outputs": [
    {
     "data": {
      "text/html": [
       "<div>\n",
       "<style scoped>\n",
       "    .dataframe tbody tr th:only-of-type {\n",
       "        vertical-align: middle;\n",
       "    }\n",
       "\n",
       "    .dataframe tbody tr th {\n",
       "        vertical-align: top;\n",
       "    }\n",
       "\n",
       "    .dataframe thead th {\n",
       "        text-align: right;\n",
       "    }\n",
       "</style>\n",
       "<table border=\"1\" class=\"dataframe\">\n",
       "  <thead>\n",
       "    <tr style=\"text-align: right;\">\n",
       "      <th></th>\n",
       "      <th>State</th>\n",
       "      <th>Zip</th>\n",
       "      <th>Lat</th>\n",
       "      <th>Lng</th>\n",
       "      <th>Population</th>\n",
       "      <th>Area</th>\n",
       "      <th>Timezone</th>\n",
       "      <th>Children</th>\n",
       "      <th>Age</th>\n",
       "      <th>Education</th>\n",
       "      <th>...</th>\n",
       "      <th>Daily_Average_Charges</th>\n",
       "      <th>Additional_charges</th>\n",
       "      <th>Timely_Admission</th>\n",
       "      <th>Timely_Treatment</th>\n",
       "      <th>Timely_Visits</th>\n",
       "      <th>Reliability</th>\n",
       "      <th>Options</th>\n",
       "      <th>Hours_Treatment</th>\n",
       "      <th>Courteous_Staff</th>\n",
       "      <th>Active_Listening</th>\n",
       "    </tr>\n",
       "  </thead>\n",
       "  <tbody>\n",
       "    <tr>\n",
       "      <th>1</th>\n",
       "      <td>-1.564718</td>\n",
       "      <td>-0.529396</td>\n",
       "      <td>-0.814558</td>\n",
       "      <td>0.297185</td>\n",
       "      <td>-0.481623</td>\n",
       "      <td>0.008203</td>\n",
       "      <td>-0.138990</td>\n",
       "      <td>-5.916688e-01</td>\n",
       "      <td>-1.643168e-02</td>\n",
       "      <td>-0.167252</td>\n",
       "      <td>...</td>\n",
       "      <td>-0.799444</td>\n",
       "      <td>0.764911</td>\n",
       "      <td>-0.502664</td>\n",
       "      <td>-0.489678</td>\n",
       "      <td>-1.463168</td>\n",
       "      <td>-1.462284</td>\n",
       "      <td>0.488288</td>\n",
       "      <td>-0.505994</td>\n",
       "      <td>-0.483580</td>\n",
       "      <td>0.470330</td>\n",
       "    </tr>\n",
       "    <tr>\n",
       "      <th>2</th>\n",
       "      <td>-1.487263</td>\n",
       "      <td>-0.644982</td>\n",
       "      <td>-1.463134</td>\n",
       "      <td>0.395566</td>\n",
       "      <td>0.083266</td>\n",
       "      <td>1.232469</td>\n",
       "      <td>-0.138990</td>\n",
       "      <td>4.866191e-01</td>\n",
       "      <td>-1.275781e-01</td>\n",
       "      <td>0.150625</td>\n",
       "      <td>...</td>\n",
       "      <td>-0.496313</td>\n",
       "      <td>0.715024</td>\n",
       "      <td>-0.502664</td>\n",
       "      <td>0.476632</td>\n",
       "      <td>-0.494921</td>\n",
       "      <td>0.467803</td>\n",
       "      <td>0.488288</td>\n",
       "      <td>0.462875</td>\n",
       "      <td>-0.483580</td>\n",
       "      <td>-0.489039</td>\n",
       "    </tr>\n",
       "    <tr>\n",
       "      <th>3</th>\n",
       "      <td>-1.409808</td>\n",
       "      <td>0.252912</td>\n",
       "      <td>0.886914</td>\n",
       "      <td>-0.354690</td>\n",
       "      <td>0.477039</td>\n",
       "      <td>0.008203</td>\n",
       "      <td>-0.138990</td>\n",
       "      <td>4.866191e-01</td>\n",
       "      <td>-1.643168e-02</td>\n",
       "      <td>0.150625</td>\n",
       "      <td>...</td>\n",
       "      <td>-1.099496</td>\n",
       "      <td>0.698547</td>\n",
       "      <td>-1.471650</td>\n",
       "      <td>0.476632</td>\n",
       "      <td>0.473326</td>\n",
       "      <td>0.467803</td>\n",
       "      <td>-0.482367</td>\n",
       "      <td>0.462875</td>\n",
       "      <td>-0.483580</td>\n",
       "      <td>-0.489039</td>\n",
       "    </tr>\n",
       "    <tr>\n",
       "      <th>4</th>\n",
       "      <td>-1.332353</td>\n",
       "      <td>0.215124</td>\n",
       "      <td>0.952472</td>\n",
       "      <td>-0.149320</td>\n",
       "      <td>-0.534987</td>\n",
       "      <td>0.008203</td>\n",
       "      <td>-0.138990</td>\n",
       "      <td>-1.130813e+00</td>\n",
       "      <td>1.372899e+00</td>\n",
       "      <td>-0.485130</td>\n",
       "      <td>...</td>\n",
       "      <td>-1.014368</td>\n",
       "      <td>0.008984</td>\n",
       "      <td>-0.502664</td>\n",
       "      <td>1.442942</td>\n",
       "      <td>1.441574</td>\n",
       "      <td>-0.497240</td>\n",
       "      <td>0.488288</td>\n",
       "      <td>1.431745</td>\n",
       "      <td>1.474433</td>\n",
       "      <td>1.429699</td>\n",
       "    </tr>\n",
       "    <tr>\n",
       "      <th>5</th>\n",
       "      <td>-1.254897</td>\n",
       "      <td>-0.982275</td>\n",
       "      <td>-0.213199</td>\n",
       "      <td>0.943987</td>\n",
       "      <td>-0.323627</td>\n",
       "      <td>-1.216062</td>\n",
       "      <td>0.859403</td>\n",
       "      <td>3.902677e-14</td>\n",
       "      <td>-1.739202e+00</td>\n",
       "      <td>-0.485130</td>\n",
       "      <td>...</td>\n",
       "      <td>-1.185928</td>\n",
       "      <td>-1.408872</td>\n",
       "      <td>-1.471650</td>\n",
       "      <td>-2.422299</td>\n",
       "      <td>-0.494921</td>\n",
       "      <td>-0.497240</td>\n",
       "      <td>1.458944</td>\n",
       "      <td>-0.505994</td>\n",
       "      <td>0.495427</td>\n",
       "      <td>-0.489039</td>\n",
       "    </tr>\n",
       "    <tr>\n",
       "      <th>...</th>\n",
       "      <td>...</td>\n",
       "      <td>...</td>\n",
       "      <td>...</td>\n",
       "      <td>...</td>\n",
       "      <td>...</td>\n",
       "      <td>...</td>\n",
       "      <td>...</td>\n",
       "      <td>...</td>\n",
       "      <td>...</td>\n",
       "      <td>...</td>\n",
       "      <td>...</td>\n",
       "      <td>...</td>\n",
       "      <td>...</td>\n",
       "      <td>...</td>\n",
       "      <td>...</td>\n",
       "      <td>...</td>\n",
       "      <td>...</td>\n",
       "      <td>...</td>\n",
       "      <td>...</td>\n",
       "      <td>...</td>\n",
       "      <td>...</td>\n",
       "    </tr>\n",
       "    <tr>\n",
       "      <th>9995</th>\n",
       "      <td>-1.487263</td>\n",
       "      <td>-0.626707</td>\n",
       "      <td>-2.010151</td>\n",
       "      <td>0.691205</td>\n",
       "      <td>-0.146355</td>\n",
       "      <td>1.232469</td>\n",
       "      <td>0.859403</td>\n",
       "      <td>2.104051e+00</td>\n",
       "      <td>8.727400e-01</td>\n",
       "      <td>-0.485130</td>\n",
       "      <td>...</td>\n",
       "      <td>-0.009976</td>\n",
       "      <td>-0.135841</td>\n",
       "      <td>-1.471650</td>\n",
       "      <td>-0.489678</td>\n",
       "      <td>-1.463168</td>\n",
       "      <td>-2.427328</td>\n",
       "      <td>1.458944</td>\n",
       "      <td>-0.505994</td>\n",
       "      <td>0.495427</td>\n",
       "      <td>-1.448408</td>\n",
       "    </tr>\n",
       "    <tr>\n",
       "      <th>9996</th>\n",
       "      <td>0.836389</td>\n",
       "      <td>-0.822748</td>\n",
       "      <td>-0.429747</td>\n",
       "      <td>0.855368</td>\n",
       "      <td>-0.359136</td>\n",
       "      <td>1.232469</td>\n",
       "      <td>0.859403</td>\n",
       "      <td>3.902677e-14</td>\n",
       "      <td>-1.572482e+00</td>\n",
       "      <td>0.786381</td>\n",
       "      <td>...</td>\n",
       "      <td>0.225006</td>\n",
       "      <td>-0.612420</td>\n",
       "      <td>-0.502664</td>\n",
       "      <td>-1.455989</td>\n",
       "      <td>-1.463168</td>\n",
       "      <td>-0.497240</td>\n",
       "      <td>0.488288</td>\n",
       "      <td>-0.505994</td>\n",
       "      <td>0.495427</td>\n",
       "      <td>-1.448408</td>\n",
       "    </tr>\n",
       "    <tr>\n",
       "      <th>9997</th>\n",
       "      <td>1.301120</td>\n",
       "      <td>-1.522562</td>\n",
       "      <td>0.126805</td>\n",
       "      <td>1.076600</td>\n",
       "      <td>-0.596603</td>\n",
       "      <td>1.232469</td>\n",
       "      <td>0.859403</td>\n",
       "      <td>1.025763e+00</td>\n",
       "      <td>1.873058e+00</td>\n",
       "      <td>-0.485130</td>\n",
       "      <td>...</td>\n",
       "      <td>0.580371</td>\n",
       "      <td>2.380053</td>\n",
       "      <td>-0.502664</td>\n",
       "      <td>-0.489678</td>\n",
       "      <td>0.473326</td>\n",
       "      <td>-1.462284</td>\n",
       "      <td>1.458944</td>\n",
       "      <td>-0.505994</td>\n",
       "      <td>0.495427</td>\n",
       "      <td>0.470330</td>\n",
       "    </tr>\n",
       "    <tr>\n",
       "      <th>9998</th>\n",
       "      <td>0.991299</td>\n",
       "      <td>-0.472968</td>\n",
       "      <td>-0.441279</td>\n",
       "      <td>0.259385</td>\n",
       "      <td>-0.645233</td>\n",
       "      <td>-1.216062</td>\n",
       "      <td>-0.138990</td>\n",
       "      <td>4.866191e-01</td>\n",
       "      <td>1.231999e-13</td>\n",
       "      <td>-0.485130</td>\n",
       "      <td>...</td>\n",
       "      <td>0.543194</td>\n",
       "      <td>0.358641</td>\n",
       "      <td>-0.502664</td>\n",
       "      <td>-0.489678</td>\n",
       "      <td>-0.494921</td>\n",
       "      <td>0.467803</td>\n",
       "      <td>0.488288</td>\n",
       "      <td>-1.474864</td>\n",
       "      <td>-0.483580</td>\n",
       "      <td>-1.448408</td>\n",
       "    </tr>\n",
       "    <tr>\n",
       "      <th>9999</th>\n",
       "      <td>-1.409808</td>\n",
       "      <td>0.277121</td>\n",
       "      <td>0.990615</td>\n",
       "      <td>-0.708371</td>\n",
       "      <td>-0.662886</td>\n",
       "      <td>-1.216062</td>\n",
       "      <td>-1.137383</td>\n",
       "      <td>4.866191e-01</td>\n",
       "      <td>-5.721640e-01</td>\n",
       "      <td>0.786381</td>\n",
       "      <td>...</td>\n",
       "      <td>0.761359</td>\n",
       "      <td>-0.787566</td>\n",
       "      <td>1.435310</td>\n",
       "      <td>1.442942</td>\n",
       "      <td>-0.494921</td>\n",
       "      <td>0.467803</td>\n",
       "      <td>0.488288</td>\n",
       "      <td>-0.505994</td>\n",
       "      <td>0.495427</td>\n",
       "      <td>-0.489039</td>\n",
       "    </tr>\n",
       "  </tbody>\n",
       "</table>\n",
       "<p>9999 rows × 45 columns</p>\n",
       "</div>"
      ],
      "text/plain": [
       "         State       Zip       Lat       Lng  Population      Area  Timezone  \\\n",
       "1    -1.564718 -0.529396 -0.814558  0.297185   -0.481623  0.008203 -0.138990   \n",
       "2    -1.487263 -0.644982 -1.463134  0.395566    0.083266  1.232469 -0.138990   \n",
       "3    -1.409808  0.252912  0.886914 -0.354690    0.477039  0.008203 -0.138990   \n",
       "4    -1.332353  0.215124  0.952472 -0.149320   -0.534987  0.008203 -0.138990   \n",
       "5    -1.254897 -0.982275 -0.213199  0.943987   -0.323627 -1.216062  0.859403   \n",
       "...        ...       ...       ...       ...         ...       ...       ...   \n",
       "9995 -1.487263 -0.626707 -2.010151  0.691205   -0.146355  1.232469  0.859403   \n",
       "9996  0.836389 -0.822748 -0.429747  0.855368   -0.359136  1.232469  0.859403   \n",
       "9997  1.301120 -1.522562  0.126805  1.076600   -0.596603  1.232469  0.859403   \n",
       "9998  0.991299 -0.472968 -0.441279  0.259385   -0.645233 -1.216062 -0.138990   \n",
       "9999 -1.409808  0.277121  0.990615 -0.708371   -0.662886 -1.216062 -1.137383   \n",
       "\n",
       "          Children           Age  Education  ...  Daily_Average_Charges  \\\n",
       "1    -5.916688e-01 -1.643168e-02  -0.167252  ...              -0.799444   \n",
       "2     4.866191e-01 -1.275781e-01   0.150625  ...              -0.496313   \n",
       "3     4.866191e-01 -1.643168e-02   0.150625  ...              -1.099496   \n",
       "4    -1.130813e+00  1.372899e+00  -0.485130  ...              -1.014368   \n",
       "5     3.902677e-14 -1.739202e+00  -0.485130  ...              -1.185928   \n",
       "...            ...           ...        ...  ...                    ...   \n",
       "9995  2.104051e+00  8.727400e-01  -0.485130  ...              -0.009976   \n",
       "9996  3.902677e-14 -1.572482e+00   0.786381  ...               0.225006   \n",
       "9997  1.025763e+00  1.873058e+00  -0.485130  ...               0.580371   \n",
       "9998  4.866191e-01  1.231999e-13  -0.485130  ...               0.543194   \n",
       "9999  4.866191e-01 -5.721640e-01   0.786381  ...               0.761359   \n",
       "\n",
       "      Additional_charges  Timely_Admission  Timely_Treatment  Timely_Visits  \\\n",
       "1               0.764911         -0.502664         -0.489678      -1.463168   \n",
       "2               0.715024         -0.502664          0.476632      -0.494921   \n",
       "3               0.698547         -1.471650          0.476632       0.473326   \n",
       "4               0.008984         -0.502664          1.442942       1.441574   \n",
       "5              -1.408872         -1.471650         -2.422299      -0.494921   \n",
       "...                  ...               ...               ...            ...   \n",
       "9995           -0.135841         -1.471650         -0.489678      -1.463168   \n",
       "9996           -0.612420         -0.502664         -1.455989      -1.463168   \n",
       "9997            2.380053         -0.502664         -0.489678       0.473326   \n",
       "9998            0.358641         -0.502664         -0.489678      -0.494921   \n",
       "9999           -0.787566          1.435310          1.442942      -0.494921   \n",
       "\n",
       "      Reliability   Options  Hours_Treatment  Courteous_Staff  \\\n",
       "1       -1.462284  0.488288        -0.505994        -0.483580   \n",
       "2        0.467803  0.488288         0.462875        -0.483580   \n",
       "3        0.467803 -0.482367         0.462875        -0.483580   \n",
       "4       -0.497240  0.488288         1.431745         1.474433   \n",
       "5       -0.497240  1.458944        -0.505994         0.495427   \n",
       "...           ...       ...              ...              ...   \n",
       "9995    -2.427328  1.458944        -0.505994         0.495427   \n",
       "9996    -0.497240  0.488288        -0.505994         0.495427   \n",
       "9997    -1.462284  1.458944        -0.505994         0.495427   \n",
       "9998     0.467803  0.488288        -1.474864        -0.483580   \n",
       "9999     0.467803  0.488288        -0.505994         0.495427   \n",
       "\n",
       "      Active_Listening  \n",
       "1             0.470330  \n",
       "2            -0.489039  \n",
       "3            -0.489039  \n",
       "4             1.429699  \n",
       "5            -0.489039  \n",
       "...                ...  \n",
       "9995         -1.448408  \n",
       "9996         -1.448408  \n",
       "9997          0.470330  \n",
       "9998         -1.448408  \n",
       "9999         -0.489039  \n",
       "\n",
       "[9999 rows x 45 columns]"
      ]
     },
     "execution_count": 250,
     "metadata": {},
     "output_type": "execute_result"
    }
   ],
   "source": [
    "from sklearn.decomposition import PCA\n",
    "pca = PCA(n_components = newDF_normalized.shape[1])\n",
    "pca.fit(newDF_normalized)\n",
    "\n",
    "newDF_pca = pd.DataFrame(pca.transform(newDF_normalized))\n",
    "newDF_normalized"
   ]
  },
  {
   "cell_type": "code",
   "execution_count": 251,
   "id": "29bcfc82-a124-451f-8bd2-4bf78cb2bcc8",
   "metadata": {},
   "outputs": [
    {
     "name": "stdout",
     "output_type": "stream",
     "text": [
      "                                  1\n",
      "State                 -1.564718e+00\n",
      "Zip                   -5.293959e-01\n",
      "Lat                   -8.145581e-01\n",
      "Lng                    2.971852e-01\n",
      "Population            -4.816232e-01\n",
      "Area                   8.203401e-03\n",
      "Timezone              -1.389902e-01\n",
      "Children              -5.916688e-01\n",
      "Age                   -1.643168e-02\n",
      "Education             -1.672521e-01\n",
      "Employment            -7.043868e-01\n",
      "Household_Income       1.852384e+00\n",
      "Marital               -1.422158e+00\n",
      "Gender                -8.882438e-01\n",
      "ReAdmis               -7.611264e-01\n",
      "VitD_levels           -2.394911e-01\n",
      "Doc_visits             9.445509e-01\n",
      "Full_meals_eaten      -9.934359e-01\n",
      "VitD_supp             -6.345826e-01\n",
      "Soft_drink             1.403094e-14\n",
      "Initial_admin         -8.938432e-01\n",
      "HighBlood              1.201915e+00\n",
      "Stroke                -4.989122e-01\n",
      "Complication_risk     -1.690298e-01\n",
      "Overweight            -1.644041e+00\n",
      "Arthritis              1.341010e+00\n",
      "Diabetes               1.628395e+00\n",
      "Hyperlipidemia        -7.131262e-01\n",
      "BackPain               1.195967e+00\n",
      "Anxiety                1.526901e+00\n",
      "Allergic_rhinitis      1.240026e+00\n",
      "Reflux_esophagitis    -8.396901e-01\n",
      "Asthma                 1.567172e+00\n",
      "Services              -8.070241e-01\n",
      "Initial_days          -9.591064e-01\n",
      "Daily_Average_Charges -7.994435e-01\n",
      "Additional_charges     7.649106e-01\n",
      "Timely_Admission      -5.026636e-01\n",
      "Timely_Treatment      -4.896785e-01\n",
      "Timely_Visits         -1.463168e+00\n",
      "Reliability           -1.462284e+00\n",
      "Options                4.882884e-01\n",
      "Hours_Treatment       -5.059945e-01\n",
      "Courteous_Staff       -4.835797e-01\n",
      "Active_Listening       4.703297e-01\n"
     ]
    }
   ],
   "source": [
    "\n",
    "data = newDF_normalized.head(1);\n",
    "print(data.transpose());"
   ]
  },
  {
   "cell_type": "code",
   "execution_count": 252,
   "id": "3a7f0bdd-b732-4bc5-8eff-14e618d05d97",
   "metadata": {},
   "outputs": [
    {
     "name": "stdout",
     "output_type": "stream",
     "text": [
      "[0.06581823 0.06349193 0.05435592 0.04257019 0.03683631 0.0291515\n",
      " 0.02743891 0.02406163 0.02369106 0.02361457 0.02356087 0.02341549\n",
      " 0.02328622 0.02322601 0.0230769  0.02292673 0.02260686 0.02250873\n",
      " 0.02231527 0.02224817 0.02216746 0.02180326 0.02175861 0.02173406\n",
      " 0.02148656 0.02142846 0.02138493 0.02125303 0.02098802 0.02073355\n",
      " 0.02060014 0.02041962 0.02021413 0.0174441  0.01699412 0.01538029\n",
      " 0.01299358 0.01176257 0.01045596 0.00726182 0.00451017 0.00296041\n",
      " 0.00217061 0.0010586  0.00083449]\n",
      "1.0\n",
      "[0.00083449 0.0010586  0.00217061 0.00296041 0.00451017 0.00726182\n",
      " 0.01045596 0.01176257 0.01299358 0.01538029 0.01699412 0.0174441\n",
      " 0.02021413 0.02041962 0.02060014 0.02073355 0.02098802 0.02125303\n",
      " 0.02138493 0.02142846 0.02148656 0.02173406 0.02175861 0.02180326\n",
      " 0.02216746 0.02224817 0.02231527 0.02250873 0.02260686 0.02292673\n",
      " 0.0230769  0.02322601 0.02328622 0.02341549 0.02356087 0.02361457\n",
      " 0.02369106 0.02406163 0.02743891 0.0291515  0.03683631 0.04257019\n",
      " 0.05435592 0.06349193 0.06581823]\n"
     ]
    }
   ],
   "source": [
    "import matplotlib.pyplot as plt\n",
    "import seaborn as sns\n",
    "plt.plot(pca.explained_variance_ratio_)\n",
    "plt.xlabel('Principal components')\n",
    "plt.ylabel('Percentage of Variance')\n",
    "plt.title('Explained Variance')\n",
    "plt.show()\n",
    "print(pca.explained_variance_ratio_)\n",
    "vairance_arr = pca.explained_variance_ratio_[::-1]\n",
    "print(np.sum(pca.explained_variance_ratio_))\n",
    "print(vairance_arr)"
   ]
  },
  {
   "cell_type": "code",
   "execution_count": 253,
   "id": "933a7ce6-50b3-4c6c-a3b7-ab797a2474dd",
   "metadata": {},
   "outputs": [
    {
     "name": "stdout",
     "output_type": "stream",
     "text": [
      "0.06581822969421645\n",
      "0.12931016314880198\n",
      "0.18366608180093705\n",
      "0.22623626836718397\n",
      "0.26307257405161716\n",
      "0.29222407439663767\n",
      "0.3196629877722092\n",
      "0.3437246147416318\n",
      "0.36741567441482875\n",
      "0.391030240240394\n",
      "0.4145911120834709\n",
      "0.4380065987753761\n",
      "0.4612928231938043\n",
      "0.4845188282215635\n",
      "0.5075957300549714\n",
      "0.5305224624657835\n",
      "0.5531293197425706\n",
      "0.5756380501082098\n",
      "0.5979533191915368\n",
      "0.6202014879649415\n",
      "0.6423689519916944\n",
      "0.6641722153047549\n",
      "0.6859308254387348\n",
      "0.7076648835231146\n",
      "0.729151440686412\n",
      "0.7505798996632154\n",
      "0.7719648257761131\n",
      "0.7932178511933555\n",
      "0.8142058678334557\n",
      "0.8349394163540207\n",
      "0.8555395515329074\n",
      "0.875959174214914\n",
      "0.8961733018799991\n",
      "0.9136173988327456\n",
      "0.9306115163785631\n",
      "0.9459918104582721\n",
      "0.9589853872725422\n",
      "0.9707479523942104\n",
      "0.9812039075650204\n",
      "0.9884657254717402\n",
      "0.9929758931988723\n",
      "0.9959362985876588\n",
      "0.998106911596256\n",
      "0.9991655103614105\n",
      "0.9999999999999997\n",
      "45\n"
     ]
    }
   ],
   "source": [
    "sum = 0;\n",
    "count = 0;\n",
    "for n in pca.explained_variance_ratio_:\n",
    "    if(sum < 0.9999):    \n",
    "        sum = sum + n\n",
    "        print(sum)\n",
    "        #print(pd.DataFrame(pca.components_,columns=data_scaled.columns,index = ['PC-1','PC-2']))\n",
    "        count+=1\n",
    "    \n",
    "print(count)\n"
   ]
  },
  {
   "cell_type": "code",
   "execution_count": 254,
   "id": "030593e3-fd70-41b6-9832-ec4853af3132",
   "metadata": {},
   "outputs": [],
   "source": [
    "import numpy as np\n",
    "cov_matrix = np.dot(newDF_normalized.T, newDF_normalized) /newDF_normalized.shape[0]\n",
    "eigenvalues = [np.dot(eigenvector.T, np.dot(cov_matrix, eigenvector)) for\n",
    "eigenvector in pca.components_]\n",
    "plt.plot(eigenvalues)\n",
    "plt.xlabel('number of components')\n",
    "plt.ylabel('eigenvalue')\n",
    "plt.title(\"Eigen Values\")\n",
    "plt.show() "
   ]
  },
  {
   "cell_type": "code",
   "execution_count": 255,
   "id": "1306715b-47cc-4dab-b13c-afe7505f49b4",
   "metadata": {},
   "outputs": [
    {
     "data": {
      "text/plain": [
       "array([2.96152412, 2.85685126, 2.44577171, 1.91546681, 1.65746798])"
      ]
     },
     "execution_count": 255,
     "metadata": {},
     "output_type": "execute_result"
    }
   ],
   "source": [
    "values, vectors = np.linalg.eig(cov_matrix)\n",
    "values[:5]"
   ]
  },
  {
   "cell_type": "code",
   "execution_count": 256,
   "id": "9eb2b722-c3b7-474b-ba03-99a60aafc6ed",
   "metadata": {},
   "outputs": [
    {
     "name": "stdout",
     "output_type": "stream",
     "text": [
      "           PC1       PC2       PC3       PC4       PC5\n",
      "1    -1.512409 -0.800014 -1.445227  1.324020  0.404026\n",
      "2    -0.299074 -0.806934 -0.997597  1.183005 -0.113117\n",
      "3    -0.116935  0.247812 -1.801364  1.112738 -0.591469\n",
      "4     2.439201  0.131175 -1.607742  0.334186  0.462466\n",
      "5    -2.253566 -1.944705 -2.149781 -2.257827 -0.253465\n",
      "...        ...       ...       ...       ...       ...\n",
      "9995 -2.567942 -1.593751 -0.381611 -0.226482  1.448203\n",
      "9996 -2.026399 -1.369764 -0.116816 -0.540641 -0.255818\n",
      "9997 -0.815283 -1.735611  1.847667  3.016462  1.891802\n",
      "9998 -1.912508 -0.214402  0.680819  0.836697  0.206687\n",
      "9999  0.667021  1.125538  1.752414 -1.404915  0.915600\n",
      "\n",
      "[9999 rows x 5 columns]\n",
      "         State       Zip       Lat       Lng  Population      Area  Timezone  \\\n",
      "PC-1 -0.010580  0.016482 -0.006920 -0.012597   -0.008136  0.006677 -0.010006   \n",
      "PC-2  0.136754  0.554434  0.059513 -0.580763    0.033569  0.008516 -0.572971   \n",
      "PC-3 -0.005966 -0.017850 -0.021826  0.020614    0.027999  0.018822  0.019613   \n",
      "PC-4  0.018533  0.001918 -0.008335  0.000690    0.008873 -0.000637  0.001824   \n",
      "PC-5 -0.025218 -0.002647  0.050477 -0.001825   -0.016327  0.015429  0.000853   \n",
      "\n",
      "      Children       Age  Education  ...  Daily_Average_Charges  \\\n",
      "PC-1 -0.001497  0.001464   0.003874  ...               0.043860   \n",
      "PC-2  0.010304 -0.008905  -0.010122  ...               0.017659   \n",
      "PC-3  0.009745  0.033123   0.003145  ...               0.578526   \n",
      "PC-4 -0.008279  0.474398  -0.021805  ...              -0.014862   \n",
      "PC-5  0.007709  0.048097   0.025102  ...              -0.006318   \n",
      "\n",
      "      Additional_charges  Timely_Admission  Timely_Treatment  Timely_Visits  \\\n",
      "PC-1           -0.001300         -0.453170         -0.426425      -0.393737   \n",
      "PC-2            0.001035          0.008856          0.012120       0.008632   \n",
      "PC-3            0.045383          0.023589          0.027766       0.021547   \n",
      "PC-4            0.699676         -0.012266         -0.010500      -0.016773   \n",
      "PC-5            0.030542          0.290738          0.288020       0.292511   \n",
      "\n",
      "      Reliability   Options  Hours_Treatment  Courteous_Staff  \\\n",
      "PC-1    -0.150865  0.188358        -0.408502        -0.355116   \n",
      "PC-2     0.000835 -0.002043         0.016228         0.009735   \n",
      "PC-3     0.026518 -0.033194         0.036720         0.041611   \n",
      "PC-4     0.012840 -0.023259         0.002487         0.015182   \n",
      "PC-5    -0.554006  0.572550        -0.162944        -0.172454   \n",
      "\n",
      "      Active_Listening  \n",
      "PC-1         -0.311491  \n",
      "PC-2         -0.000532  \n",
      "PC-3          0.029659  \n",
      "PC-4          0.004376  \n",
      "PC-5         -0.145642  \n",
      "\n",
      "[5 rows x 45 columns]\n"
     ]
    }
   ],
   "source": [
    "projected_1 = newDF_normalized.dot(vectors.T[0])\n",
    "projected_2 = newDF_normalized.dot(vectors.T[1])\n",
    "projected_3 = newDF_normalized.dot(vectors.T[2])\n",
    "projected_4 = newDF_normalized.dot(vectors.T[3])\n",
    "projected_5 = newDF_normalized.dot(vectors.T[4])\n",
    "\n",
    "from sklearn import preprocessing\n",
    "data_scaled = pd.DataFrame(preprocessing.scale(newDF_normalized),columns = newDF_normalized.columns) \n",
    "\n",
    "# PCA\n",
    "pca = PCA(n_components=5)\n",
    "pca.fit_transform(data_scaled)\n",
    "\n",
    "res = pd.DataFrame(projected_1, columns = ['PC1'])\n",
    "res['PC2'] = projected_2\n",
    "res['PC3'] = projected_3\n",
    "res['PC4'] = projected_4\n",
    "res['PC5'] = projected_5\n",
    "# res['Y'] = y\n",
    "print(res)\n",
    "print(pd.DataFrame(pca.components_,columns=data_scaled.columns,index = ['PC-1','PC-2','PC-3','PC-4','PC-5']))"
   ]
  },
  {
   "cell_type": "code",
   "execution_count": 257,
   "id": "05259672-c72a-4e2d-ae60-e340fd80e211",
   "metadata": {},
   "outputs": [
    {
     "name": "stderr",
     "output_type": "stream",
     "text": [
      "C:\\Users\\MichaelRupert\\anaconda3\\lib\\site-packages\\seaborn\\_decorators.py:36: FutureWarning: Pass the following variables as keyword args: x, y. From version 0.12, the only valid positional argument will be `data`, and passing other arguments without an explicit keyword will result in an error or misinterpretation.\n",
      "  warnings.warn(\n"
     ]
    },
    {
     "data": {
      "text/plain": [
       "<AxesSubplot:xlabel='PC1'>"
      ]
     },
     "execution_count": 257,
     "metadata": {},
     "output_type": "execute_result"
    }
   ],
   "source": [
    "import matplotlib.pyplot as plt\n",
    "import seaborn as sns\n",
    "plt.figure(figsize=(20, 10))\n",
    "sns.scatterplot(res['PC1'], [0] * len(res),  s=200)"
   ]
  },
  {
   "cell_type": "code",
   "execution_count": 258,
   "id": "27a12619-a3df-4579-9038-59e60f08e151",
   "metadata": {},
   "outputs": [],
   "source": [
    "newDF.to_csv('C:/Users/MichaelRupert/Downloads/e9d8sm5uf8df75k650df/medical_cleaned_data.csv')"
   ]
  },
  {
   "cell_type": "code",
   "execution_count": 259,
   "id": "feb8a17d-d090-4351-ab0c-5a3554fb50fd",
   "metadata": {},
   "outputs": [],
   "source": [
    "newDF_normalized.to_csv('C:/Users/MichaelRupert/Downloads/e9d8sm5uf8df75k650df/medical_Normalized_data.csv')"
   ]
  }
 ],
 "metadata": {
  "kernelspec": {
   "display_name": "Python 3",
   "language": "python",
   "name": "python3"
  },
  "language_info": {
   "codemirror_mode": {
    "name": "ipython",
    "version": 3
   },
   "file_extension": ".py",
   "mimetype": "text/x-python",
   "name": "python",
   "nbconvert_exporter": "python",
   "pygments_lexer": "ipython3",
   "version": "3.8.8"
  },
  "toc-autonumbering": false,
  "toc-showmarkdowntxt": false
 },
 "nbformat": 4,
 "nbformat_minor": 5
}
